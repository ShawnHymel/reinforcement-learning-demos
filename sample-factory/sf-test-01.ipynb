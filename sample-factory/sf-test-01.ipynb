{
 "cells": [
  {
   "cell_type": "code",
   "execution_count": 2,
   "id": "43b3224e-28c0-4a57-8be2-f57107db2ea7",
   "metadata": {},
   "outputs": [],
   "source": [
    "import subprocess"
   ]
  },
  {
   "cell_type": "code",
   "execution_count": 15,
   "id": "030cf512-49c0-4fca-af00-82f54b4aa6f5",
   "metadata": {},
   "outputs": [],
   "source": [
    "# Training settings\n",
    "train_script_path = \"./sf_train.py\"\n",
    "train_settings = {\n",
    "    \"algo\": \"APPO\",\n",
    "    \"use_rnn\": False,\n",
    "    \"num_envs_per_worker\": 1,\n",
    "    \"worker_num_splits\": 1,\n",
    "    \"policy_workers_per_policy\": 1,\n",
    "    \"recurrence\": 1,\n",
    "    \"with_vtrace\": False,\n",
    "    \"batch_size\": 512,\n",
    "    \"reward_scale\": 0.1,\n",
    "    \"save_every_sec\": 10,\n",
    "    \"experiment_summaries_interval\": 10,\n",
    "    \"experiment\": \"my-pendulum\",\n",
    "    \"env\": \"Pendulum-v1\",\n",
    "    \"train_for_env_steps\": 500,\n",
    "    \"\n",
    "}\n",
    "\n",
    "# Evaluation settings\n",
    "eval_script_path = \"./sf_eval.py\"\n",
    "eval_settings = {\n",
    "    \"algo\": \"APPO\",\n",
    "    \"experiment\": \"my-pendulum\",\n",
    "    \"env\": \"Pendulum-v1\",\n",
    "    \"max_num_frames\": 200,\n",
    "}"
   ]
  },
  {
   "cell_type": "code",
   "execution_count": 4,
   "id": "58335d71-7ef6-40b3-bf1c-d194ac6bff4b",
   "metadata": {},
   "outputs": [],
   "source": [
    "def dict_to_argv(args_dict):\n",
    "    argv = []\n",
    "    for key, value in args_dict.items():\n",
    "        # Convert the key to its argument format\n",
    "        if len(key) == 1:\n",
    "            argv.append(f'-{key}')\n",
    "        else:\n",
    "            argv.append(f'--{key}')\n",
    "        \n",
    "        # Append the value if it exists and isn't a boolean flag\n",
    "        if value is not None:\n",
    "            argv.append(str(value))\n",
    "    return argv"
   ]
  },
  {
   "cell_type": "code",
   "execution_count": 8,
   "id": "baec6c2b-cf70-4bd9-b1e6-375beaa408cf",
   "metadata": {},
   "outputs": [
    {
     "name": "stdout",
     "output_type": "stream",
     "text": [
      "python3 ./sf_train.py --algo APPO --use_rnn False --num_envs_per_worker 1 --worker_num_splits 1 --policy_workers_per_policy 1 --recurrence 1 --with_vtrace False --batch_size 512 --reward_scale 0.1 --save_every_sec 10 --experiment_summaries_interval 10 --experiment my-pendulum --env Pendulum-v1 --train_for_env_steps 500\n"
     ]
    }
   ],
   "source": [
    "# Build call to training script\n",
    "cmd = f\"python3 {train_script_path} \" + \" \".join(dict_to_argv(train_settings))\n",
    "print(cmd)"
   ]
  },
  {
   "cell_type": "code",
   "execution_count": 9,
   "id": "16da3944-ec4c-44ea-9350-3bf9c98d1736",
   "metadata": {},
   "outputs": [
    {
     "name": "stdout",
     "output_type": "stream",
     "text": [
      "lout_proc12 to join...\u001b[0m\n",
      "\u001b[36m[2023-09-24 12:00:22,932][10236] Waiting for process rollout_proc13 to join...\u001b[0m\n",
      "\u001b[36m[2023-09-24 12:00:22,932][10236] Waiting for process rollout_proc14 to join...\u001b[0m\n",
      "\u001b[36m[2023-09-24 12:00:22,933][10236] Waiting for process rollout_proc15 to join...\u001b[0m\n",
      "\u001b[37m\u001b[1m[2023-09-24 12:00:22,933][10236] Batcher 0 profile tree view:\n",
      "batching: 0.0172, releasing_batches: 0.0004\u001b[0m\n",
      "\u001b[37m\u001b[1m[2023-09-24 12:00:22,933][10236] InferenceWorker_p0-w0 profile tree view:\n",
      "update_model: 0.0023\n",
      "wait_policy: 0.0002\n",
      "  wait_policy_total: 0.0088\n",
      "one_step: 0.0009\n",
      "  handle_policy_step: 0.8819\n",
      "    deserialize: 0.0042, stack: 0.0011, obs_to_device_normalize: 0.0357, forward: 0.7981, send_messages: 0.0145\n",
      "    prepare_outputs: 0.0192\n",
      "      to_cpu: 0.0108\u001b[0m\n",
      "\u001b[37m\u001b[1m[2023-09-24 12:00:22,933][10236] Learner 0 profile tree view:\n",
      "misc: 0.0000, prepare_batch: 1.6080\n",
      "train: 0.0108\n",
      "  epoch_init: 0.0000, minibatch_init: 0.0000, losses_postprocess: 0.0002, kl_divergence: 0.0009, after_optimizer: 0.0015\n",
      "  calculate_losses: 0.0033\n",
      "    losses_init: 0.0000, forward_head: 0.0004, bptt_initial: 0.0000, bptt: 0.0000, tail: 0.0016, advantages_returns: 0.0003, losses: 0.0008\n",
      "  update: 0.0045\n",
      "    clip: 0.0007\u001b[0m\n",
      "\u001b[37m\u001b[1m[2023-09-24 12:00:22,933][10236] RolloutWorker_w0 profile tree view:\n",
      "wait_for_trajectories: 0.0001, enqueue_policy_requests: 0.0145, env_step: 0.0078, overhead: 0.0027, complete_rollouts: 0.0002\n",
      "save_policy_outputs: 0.0047\n",
      "  split_output_tensors: 0.0022\u001b[0m\n",
      "\u001b[37m\u001b[1m[2023-09-24 12:00:22,933][10236] RolloutWorker_w15 profile tree view:\n",
      "wait_for_trajectories: 0.0002, enqueue_policy_requests: 0.0035, env_step: 0.0080, overhead: 0.0027, complete_rollouts: 0.0002\n",
      "save_policy_outputs: 0.0047\n",
      "  split_output_tensors: 0.0023\u001b[0m\n",
      "\u001b[36m[2023-09-24 12:00:22,933][10236] Loop Runner_EvtLoop terminating...\u001b[0m\n",
      "\u001b[37m\u001b[1m[2023-09-24 12:00:22,933][10236] Runner profile tree view:\n",
      "main_loop: 6.0006\u001b[0m\n",
      "\u001b[37m\u001b[1m[2023-09-24 12:00:22,933][10236] Collected {0: 4096}, FPS: 170.7\u001b[0m\n",
      "\n"
     ]
    }
   ],
   "source": [
    "# Choo choo train\n",
    "result = subprocess.run(cmd, shell=True, capture_output=True, text=True)\n",
    "print(result.stderr[-2000:])"
   ]
  },
  {
   "cell_type": "code",
   "execution_count": 16,
   "id": "028edd00-2b7c-4c75-8dea-501c84221571",
   "metadata": {},
   "outputs": [
    {
     "name": "stdout",
     "output_type": "stream",
     "text": [
      "python3 ./sf_eval.py --algo APPO --experiment my-pendulum --env Pendulum-v1 --max_num_frames 200\n"
     ]
    }
   ],
   "source": [
    "# Build call to evaluation script\n",
    "cmd = f\"python3 {eval_script_path} \" + \" \".join(dict_to_argv(eval_settings))\n",
    "print(cmd)"
   ]
  },
  {
   "cell_type": "code",
   "execution_count": 17,
   "id": "cbbbae2a-b053-4bed-8e25-ac3d425560bc",
   "metadata": {},
   "outputs": [
    {
     "name": "stdout",
     "output_type": "stream",
     "text": [
      "\u001b[33m[2023-09-24 12:02:50,990][11137] Loading existing experiment configuration from /home/sgmustadio/Projects/GitHub/reinforcement-learning-demos/sample-factory/train_dir/my-pendulum/config.json\u001b[0m\n",
      "\u001b[36m[2023-09-24 12:02:50,990][11137] Adding new argument 'fps'=0 that is not in the saved config file!\u001b[0m\n",
      "\u001b[36m[2023-09-24 12:02:50,990][11137] Adding new argument 'eval_env_frameskip'=None that is not in the saved config file!\u001b[0m\n",
      "\u001b[36m[2023-09-24 12:02:50,990][11137] Adding new argument 'no_render'=False that is not in the saved config file!\u001b[0m\n",
      "\u001b[36m[2023-09-24 12:02:50,990][11137] Adding new argument 'save_video'=False that is not in the saved config file!\u001b[0m\n",
      "\u001b[36m[2023-09-24 12:02:50,990][11137] Adding new argument 'video_frames'=1000000000.0 that is not in the saved config file!\u001b[0m\n",
      "\u001b[36m[2023-09-24 12:02:50,990][11137] Adding new argument 'video_name'=None that is not in the saved config file!\u001b[0m\n",
      "\u001b[36m[2023-09-24 12:02:50,990][11137] Adding new argument 'max_num_frames'=200 that is not in the saved config file!\u001b[0m\n",
      "\u001b[36m[2023-09-24 12:02:50,990][11137] Adding new argument 'max_num_episodes'=1000000000.0 that is not in the saved config file!\u001b[0m\n",
      "\u001b[36m[2023-09-24 12:02:50,990][11137] Adding new argument 'push_to_hub'=False that is not in the saved config file!\u001b[0m\n",
      "\u001b[36m[2023-09-24 12:02:50,990][11137] Adding new argument 'hf_repository'=None that is not in the saved config file!\u001b[0m\n",
      "\u001b[36m[2023-09-24 12:02:50,990][11137] Adding new argument 'policy_index'=0 that is not in the saved config file!\u001b[0m\n",
      "\u001b[36m[2023-09-24 12:02:50,990][11137] Adding new argument 'eval_deterministic'=False that is not in the saved config file!\u001b[0m\n",
      "\u001b[36m[2023-09-24 12:02:50,990][11137] Adding new argument 'train_script'=None that is not in the saved config file!\u001b[0m\n",
      "\u001b[36m[2023-09-24 12:02:50,990][11137] Adding new argument 'enjoy_script'=None that is not in the saved config file!\u001b[0m\n",
      "\u001b[36m[2023-09-24 12:02:50,991][11137] Using frameskip 1 and render_action_repeat=1 for evaluation\u001b[0m\n",
      "\u001b[36m[2023-09-24 12:02:50,993][11137] RunningMeanStd input shape: (3,)\u001b[0m\n",
      "\u001b[36m[2023-09-24 12:02:50,994][11137] RunningMeanStd input shape: (1,)\u001b[0m\n",
      "\u001b[33m[2023-09-24 12:02:51,640][11137] Loading state from checkpoint /home/sgmustadio/Projects/GitHub/reinforcement-learning-demos/sample-factory/train_dir/my-pendulum/checkpoint_p0/checkpoint_000000008_4096.pth...\u001b[0m\n",
      "\u001b[36m[2023-09-24 12:02:59,190][11137] Num frames 100...\u001b[0m\n",
      "\u001b[36m[2023-09-24 12:03:05,841][11137] Num frames 200...\u001b[0m\n",
      "\u001b[37m\u001b[1m[2023-09-24 12:03:05,924][11137] Avg episode rewards: #0: -1217.024, true rewards: #0: -1217.024\u001b[0m\n",
      "\u001b[37m\u001b[1m[2023-09-24 12:03:05,925][11137] Avg episode reward: -1217.024, avg true_objective: -1217.024\u001b[0m\n",
      "(0, -1217.024169921875)\n",
      "\n"
     ]
    }
   ],
   "source": [
    "# Evaluate\n",
    "result = subprocess.run(cmd, shell=True, capture_output=True, text=True)\n",
    "print(result.stderr[-3000:])"
   ]
  },
  {
   "cell_type": "code",
   "execution_count": null,
   "id": "ab421059-2975-4054-ba5a-1044f86ba744",
   "metadata": {},
   "outputs": [],
   "source": []
  }
 ],
 "metadata": {
  "kernelspec": {
   "display_name": "Python 3 (ipykernel)",
   "language": "python",
   "name": "python3"
  },
  "language_info": {
   "codemirror_mode": {
    "name": "ipython",
    "version": 3
   },
   "file_extension": ".py",
   "mimetype": "text/x-python",
   "name": "python",
   "nbconvert_exporter": "python",
   "pygments_lexer": "ipython3",
   "version": "3.8.10"
  }
 },
 "nbformat": 4,
 "nbformat_minor": 5
}
