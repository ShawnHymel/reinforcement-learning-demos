{
  "nbformat": 4,
  "nbformat_minor": 0,
  "metadata": {
    "colab": {
      "provenance": []
    },
    "kernelspec": {
      "name": "python3",
      "display_name": "Python 3"
    },
    "language_info": {
      "name": "python"
    }
  },
  "cells": [
    {
      "cell_type": "code",
      "execution_count": 1,
      "metadata": {
        "colab": {
          "base_uri": "https://localhost:8080/"
        },
        "id": "ZT6g5wsCrPeO",
        "outputId": "ee073ac4-269b-44f0-d8ba-c138ca108c9b"
      },
      "outputs": [
        {
          "output_type": "stream",
          "name": "stdout",
          "text": [
            "Requirement already satisfied: gymnasium==0.28.1 in /usr/local/lib/python3.10/dist-packages (0.28.1)\n",
            "Requirement already satisfied: numpy>=1.21.0 in /usr/local/lib/python3.10/dist-packages (from gymnasium==0.28.1) (1.23.5)\n",
            "Requirement already satisfied: jax-jumpy>=1.0.0 in /usr/local/lib/python3.10/dist-packages (from gymnasium==0.28.1) (1.0.0)\n",
            "Requirement already satisfied: cloudpickle>=1.2.0 in /usr/local/lib/python3.10/dist-packages (from gymnasium==0.28.1) (2.2.1)\n",
            "Requirement already satisfied: typing-extensions>=4.3.0 in /usr/local/lib/python3.10/dist-packages (from gymnasium==0.28.1) (4.5.0)\n",
            "Requirement already satisfied: farama-notifications>=0.0.1 in /usr/local/lib/python3.10/dist-packages (from gymnasium==0.28.1) (0.0.4)\n",
            "Requirement already satisfied: stable-baselines3[extra]==2.1.0 in /usr/local/lib/python3.10/dist-packages (2.1.0)\n",
            "Requirement already satisfied: gymnasium<0.30,>=0.28.1 in /usr/local/lib/python3.10/dist-packages (from stable-baselines3[extra]==2.1.0) (0.28.1)\n",
            "Requirement already satisfied: numpy>=1.20 in /usr/local/lib/python3.10/dist-packages (from stable-baselines3[extra]==2.1.0) (1.23.5)\n",
            "Requirement already satisfied: torch>=1.13 in /usr/local/lib/python3.10/dist-packages (from stable-baselines3[extra]==2.1.0) (2.0.1+cu118)\n",
            "Requirement already satisfied: cloudpickle in /usr/local/lib/python3.10/dist-packages (from stable-baselines3[extra]==2.1.0) (2.2.1)\n",
            "Requirement already satisfied: pandas in /usr/local/lib/python3.10/dist-packages (from stable-baselines3[extra]==2.1.0) (1.5.3)\n",
            "Requirement already satisfied: matplotlib in /usr/local/lib/python3.10/dist-packages (from stable-baselines3[extra]==2.1.0) (3.7.1)\n",
            "Requirement already satisfied: opencv-python in /usr/local/lib/python3.10/dist-packages (from stable-baselines3[extra]==2.1.0) (4.8.0.76)\n",
            "Requirement already satisfied: pygame in /usr/local/lib/python3.10/dist-packages (from stable-baselines3[extra]==2.1.0) (2.5.2)\n",
            "Requirement already satisfied: tensorboard>=2.9.1 in /usr/local/lib/python3.10/dist-packages (from stable-baselines3[extra]==2.1.0) (2.13.0)\n",
            "Requirement already satisfied: psutil in /usr/local/lib/python3.10/dist-packages (from stable-baselines3[extra]==2.1.0) (5.9.5)\n",
            "Requirement already satisfied: tqdm in /usr/local/lib/python3.10/dist-packages (from stable-baselines3[extra]==2.1.0) (4.66.1)\n",
            "Requirement already satisfied: rich in /usr/local/lib/python3.10/dist-packages (from stable-baselines3[extra]==2.1.0) (13.6.0)\n",
            "Requirement already satisfied: shimmy[atari]~=1.1.0 in /usr/local/lib/python3.10/dist-packages (from stable-baselines3[extra]==2.1.0) (1.1.0)\n",
            "Requirement already satisfied: pillow in /usr/local/lib/python3.10/dist-packages (from stable-baselines3[extra]==2.1.0) (9.4.0)\n",
            "Requirement already satisfied: autorom[accept-rom-license]~=0.6.1 in /usr/local/lib/python3.10/dist-packages (from stable-baselines3[extra]==2.1.0) (0.6.1)\n",
            "Requirement already satisfied: click in /usr/local/lib/python3.10/dist-packages (from autorom[accept-rom-license]~=0.6.1->stable-baselines3[extra]==2.1.0) (8.1.7)\n",
            "Requirement already satisfied: requests in /usr/local/lib/python3.10/dist-packages (from autorom[accept-rom-license]~=0.6.1->stable-baselines3[extra]==2.1.0) (2.31.0)\n",
            "Requirement already satisfied: AutoROM.accept-rom-license in /usr/local/lib/python3.10/dist-packages (from autorom[accept-rom-license]~=0.6.1->stable-baselines3[extra]==2.1.0) (0.6.1)\n",
            "Requirement already satisfied: jax-jumpy>=1.0.0 in /usr/local/lib/python3.10/dist-packages (from gymnasium<0.30,>=0.28.1->stable-baselines3[extra]==2.1.0) (1.0.0)\n",
            "Requirement already satisfied: typing-extensions>=4.3.0 in /usr/local/lib/python3.10/dist-packages (from gymnasium<0.30,>=0.28.1->stable-baselines3[extra]==2.1.0) (4.5.0)\n",
            "Requirement already satisfied: farama-notifications>=0.0.1 in /usr/local/lib/python3.10/dist-packages (from gymnasium<0.30,>=0.28.1->stable-baselines3[extra]==2.1.0) (0.0.4)\n",
            "Requirement already satisfied: ale-py~=0.8.1 in /usr/local/lib/python3.10/dist-packages (from shimmy[atari]~=1.1.0->stable-baselines3[extra]==2.1.0) (0.8.1)\n",
            "Requirement already satisfied: absl-py>=0.4 in /usr/local/lib/python3.10/dist-packages (from tensorboard>=2.9.1->stable-baselines3[extra]==2.1.0) (1.4.0)\n",
            "Requirement already satisfied: grpcio>=1.48.2 in /usr/local/lib/python3.10/dist-packages (from tensorboard>=2.9.1->stable-baselines3[extra]==2.1.0) (1.59.0)\n",
            "Requirement already satisfied: google-auth<3,>=1.6.3 in /usr/local/lib/python3.10/dist-packages (from tensorboard>=2.9.1->stable-baselines3[extra]==2.1.0) (2.17.3)\n",
            "Requirement already satisfied: google-auth-oauthlib<1.1,>=0.5 in /usr/local/lib/python3.10/dist-packages (from tensorboard>=2.9.1->stable-baselines3[extra]==2.1.0) (1.0.0)\n",
            "Requirement already satisfied: markdown>=2.6.8 in /usr/local/lib/python3.10/dist-packages (from tensorboard>=2.9.1->stable-baselines3[extra]==2.1.0) (3.4.4)\n",
            "Requirement already satisfied: protobuf>=3.19.6 in /usr/local/lib/python3.10/dist-packages (from tensorboard>=2.9.1->stable-baselines3[extra]==2.1.0) (3.20.3)\n",
            "Requirement already satisfied: setuptools>=41.0.0 in /usr/local/lib/python3.10/dist-packages (from tensorboard>=2.9.1->stable-baselines3[extra]==2.1.0) (67.7.2)\n",
            "Requirement already satisfied: tensorboard-data-server<0.8.0,>=0.7.0 in /usr/local/lib/python3.10/dist-packages (from tensorboard>=2.9.1->stable-baselines3[extra]==2.1.0) (0.7.1)\n",
            "Requirement already satisfied: werkzeug>=1.0.1 in /usr/local/lib/python3.10/dist-packages (from tensorboard>=2.9.1->stable-baselines3[extra]==2.1.0) (3.0.0)\n",
            "Requirement already satisfied: wheel>=0.26 in /usr/local/lib/python3.10/dist-packages (from tensorboard>=2.9.1->stable-baselines3[extra]==2.1.0) (0.41.2)\n",
            "Requirement already satisfied: filelock in /usr/local/lib/python3.10/dist-packages (from torch>=1.13->stable-baselines3[extra]==2.1.0) (3.12.4)\n",
            "Requirement already satisfied: sympy in /usr/local/lib/python3.10/dist-packages (from torch>=1.13->stable-baselines3[extra]==2.1.0) (1.12)\n",
            "Requirement already satisfied: networkx in /usr/local/lib/python3.10/dist-packages (from torch>=1.13->stable-baselines3[extra]==2.1.0) (3.1)\n",
            "Requirement already satisfied: jinja2 in /usr/local/lib/python3.10/dist-packages (from torch>=1.13->stable-baselines3[extra]==2.1.0) (3.1.2)\n",
            "Requirement already satisfied: triton==2.0.0 in /usr/local/lib/python3.10/dist-packages (from torch>=1.13->stable-baselines3[extra]==2.1.0) (2.0.0)\n",
            "Requirement already satisfied: cmake in /usr/local/lib/python3.10/dist-packages (from triton==2.0.0->torch>=1.13->stable-baselines3[extra]==2.1.0) (3.27.6)\n",
            "Requirement already satisfied: lit in /usr/local/lib/python3.10/dist-packages (from triton==2.0.0->torch>=1.13->stable-baselines3[extra]==2.1.0) (17.0.2)\n",
            "Requirement already satisfied: contourpy>=1.0.1 in /usr/local/lib/python3.10/dist-packages (from matplotlib->stable-baselines3[extra]==2.1.0) (1.1.1)\n",
            "Requirement already satisfied: cycler>=0.10 in /usr/local/lib/python3.10/dist-packages (from matplotlib->stable-baselines3[extra]==2.1.0) (0.12.0)\n",
            "Requirement already satisfied: fonttools>=4.22.0 in /usr/local/lib/python3.10/dist-packages (from matplotlib->stable-baselines3[extra]==2.1.0) (4.43.1)\n",
            "Requirement already satisfied: kiwisolver>=1.0.1 in /usr/local/lib/python3.10/dist-packages (from matplotlib->stable-baselines3[extra]==2.1.0) (1.4.5)\n",
            "Requirement already satisfied: packaging>=20.0 in /usr/local/lib/python3.10/dist-packages (from matplotlib->stable-baselines3[extra]==2.1.0) (23.2)\n",
            "Requirement already satisfied: pyparsing>=2.3.1 in /usr/local/lib/python3.10/dist-packages (from matplotlib->stable-baselines3[extra]==2.1.0) (3.1.1)\n",
            "Requirement already satisfied: python-dateutil>=2.7 in /usr/local/lib/python3.10/dist-packages (from matplotlib->stable-baselines3[extra]==2.1.0) (2.8.2)\n",
            "Requirement already satisfied: pytz>=2020.1 in /usr/local/lib/python3.10/dist-packages (from pandas->stable-baselines3[extra]==2.1.0) (2023.3.post1)\n",
            "Requirement already satisfied: markdown-it-py>=2.2.0 in /usr/local/lib/python3.10/dist-packages (from rich->stable-baselines3[extra]==2.1.0) (3.0.0)\n",
            "Requirement already satisfied: pygments<3.0.0,>=2.13.0 in /usr/local/lib/python3.10/dist-packages (from rich->stable-baselines3[extra]==2.1.0) (2.16.1)\n",
            "Requirement already satisfied: importlib-resources in /usr/local/lib/python3.10/dist-packages (from ale-py~=0.8.1->shimmy[atari]~=1.1.0->stable-baselines3[extra]==2.1.0) (6.1.0)\n",
            "Requirement already satisfied: cachetools<6.0,>=2.0.0 in /usr/local/lib/python3.10/dist-packages (from google-auth<3,>=1.6.3->tensorboard>=2.9.1->stable-baselines3[extra]==2.1.0) (5.3.1)\n",
            "Requirement already satisfied: pyasn1-modules>=0.2.1 in /usr/local/lib/python3.10/dist-packages (from google-auth<3,>=1.6.3->tensorboard>=2.9.1->stable-baselines3[extra]==2.1.0) (0.3.0)\n",
            "Requirement already satisfied: six>=1.9.0 in /usr/local/lib/python3.10/dist-packages (from google-auth<3,>=1.6.3->tensorboard>=2.9.1->stable-baselines3[extra]==2.1.0) (1.16.0)\n",
            "Requirement already satisfied: rsa<5,>=3.1.4 in /usr/local/lib/python3.10/dist-packages (from google-auth<3,>=1.6.3->tensorboard>=2.9.1->stable-baselines3[extra]==2.1.0) (4.9)\n",
            "Requirement already satisfied: requests-oauthlib>=0.7.0 in /usr/local/lib/python3.10/dist-packages (from google-auth-oauthlib<1.1,>=0.5->tensorboard>=2.9.1->stable-baselines3[extra]==2.1.0) (1.3.1)\n",
            "Requirement already satisfied: mdurl~=0.1 in /usr/local/lib/python3.10/dist-packages (from markdown-it-py>=2.2.0->rich->stable-baselines3[extra]==2.1.0) (0.1.2)\n",
            "Requirement already satisfied: charset-normalizer<4,>=2 in /usr/local/lib/python3.10/dist-packages (from requests->autorom[accept-rom-license]~=0.6.1->stable-baselines3[extra]==2.1.0) (3.3.0)\n",
            "Requirement already satisfied: idna<4,>=2.5 in /usr/local/lib/python3.10/dist-packages (from requests->autorom[accept-rom-license]~=0.6.1->stable-baselines3[extra]==2.1.0) (3.4)\n",
            "Requirement already satisfied: urllib3<3,>=1.21.1 in /usr/local/lib/python3.10/dist-packages (from requests->autorom[accept-rom-license]~=0.6.1->stable-baselines3[extra]==2.1.0) (2.0.6)\n",
            "Requirement already satisfied: certifi>=2017.4.17 in /usr/local/lib/python3.10/dist-packages (from requests->autorom[accept-rom-license]~=0.6.1->stable-baselines3[extra]==2.1.0) (2023.7.22)\n",
            "Requirement already satisfied: MarkupSafe>=2.1.1 in /usr/local/lib/python3.10/dist-packages (from werkzeug>=1.0.1->tensorboard>=2.9.1->stable-baselines3[extra]==2.1.0) (2.1.3)\n",
            "Requirement already satisfied: mpmath>=0.19 in /usr/local/lib/python3.10/dist-packages (from sympy->torch>=1.13->stable-baselines3[extra]==2.1.0) (1.3.0)\n",
            "Requirement already satisfied: pyasn1<0.6.0,>=0.4.6 in /usr/local/lib/python3.10/dist-packages (from pyasn1-modules>=0.2.1->google-auth<3,>=1.6.3->tensorboard>=2.9.1->stable-baselines3[extra]==2.1.0) (0.5.0)\n",
            "Requirement already satisfied: oauthlib>=3.0.0 in /usr/local/lib/python3.10/dist-packages (from requests-oauthlib>=0.7.0->google-auth-oauthlib<1.1,>=0.5->tensorboard>=2.9.1->stable-baselines3[extra]==2.1.0) (3.2.2)\n",
            "Requirement already satisfied: ax-platform==0.3.4 in /usr/local/lib/python3.10/dist-packages (0.3.4)\n",
            "Requirement already satisfied: botorch==0.9.2 in /usr/local/lib/python3.10/dist-packages (from ax-platform==0.3.4) (0.9.2)\n",
            "Requirement already satisfied: jinja2 in /usr/local/lib/python3.10/dist-packages (from ax-platform==0.3.4) (3.1.2)\n",
            "Requirement already satisfied: pandas in /usr/local/lib/python3.10/dist-packages (from ax-platform==0.3.4) (1.5.3)\n",
            "Requirement already satisfied: scipy in /usr/local/lib/python3.10/dist-packages (from ax-platform==0.3.4) (1.11.3)\n",
            "Requirement already satisfied: scikit-learn in /usr/local/lib/python3.10/dist-packages (from ax-platform==0.3.4) (1.2.2)\n",
            "Requirement already satisfied: ipywidgets in /usr/local/lib/python3.10/dist-packages (from ax-platform==0.3.4) (7.7.1)\n",
            "Requirement already satisfied: plotly>=5.12.0 in /usr/local/lib/python3.10/dist-packages (from ax-platform==0.3.4) (5.15.0)\n",
            "Requirement already satisfied: typeguard==2.13.3 in /usr/local/lib/python3.10/dist-packages (from ax-platform==0.3.4) (2.13.3)\n",
            "Requirement already satisfied: multipledispatch in /usr/local/lib/python3.10/dist-packages (from botorch==0.9.2->ax-platform==0.3.4) (1.0.0)\n",
            "Requirement already satisfied: torch>=1.13.1 in /usr/local/lib/python3.10/dist-packages (from botorch==0.9.2->ax-platform==0.3.4) (2.0.1+cu118)\n",
            "Requirement already satisfied: pyro-ppl>=1.8.4 in /usr/local/lib/python3.10/dist-packages (from botorch==0.9.2->ax-platform==0.3.4) (1.8.6)\n",
            "Requirement already satisfied: gpytorch==1.11 in /usr/local/lib/python3.10/dist-packages (from botorch==0.9.2->ax-platform==0.3.4) (1.11)\n",
            "Requirement already satisfied: linear-operator==0.5.1 in /usr/local/lib/python3.10/dist-packages (from botorch==0.9.2->ax-platform==0.3.4) (0.5.1)\n",
            "Requirement already satisfied: jaxtyping>=0.2.9 in /usr/local/lib/python3.10/dist-packages (from linear-operator==0.5.1->botorch==0.9.2->ax-platform==0.3.4) (0.2.23)\n",
            "Requirement already satisfied: tenacity>=6.2.0 in /usr/local/lib/python3.10/dist-packages (from plotly>=5.12.0->ax-platform==0.3.4) (8.2.3)\n",
            "Requirement already satisfied: packaging in /usr/local/lib/python3.10/dist-packages (from plotly>=5.12.0->ax-platform==0.3.4) (23.2)\n",
            "Requirement already satisfied: ipykernel>=4.5.1 in /usr/local/lib/python3.10/dist-packages (from ipywidgets->ax-platform==0.3.4) (5.5.6)\n",
            "Requirement already satisfied: ipython-genutils~=0.2.0 in /usr/local/lib/python3.10/dist-packages (from ipywidgets->ax-platform==0.3.4) (0.2.0)\n",
            "Requirement already satisfied: traitlets>=4.3.1 in /usr/local/lib/python3.10/dist-packages (from ipywidgets->ax-platform==0.3.4) (5.7.1)\n",
            "Requirement already satisfied: widgetsnbextension~=3.6.0 in /usr/local/lib/python3.10/dist-packages (from ipywidgets->ax-platform==0.3.4) (3.6.6)\n",
            "Requirement already satisfied: ipython>=4.0.0 in /usr/local/lib/python3.10/dist-packages (from ipywidgets->ax-platform==0.3.4) (7.34.0)\n",
            "Requirement already satisfied: jupyterlab-widgets>=1.0.0 in /usr/local/lib/python3.10/dist-packages (from ipywidgets->ax-platform==0.3.4) (3.0.9)\n",
            "Requirement already satisfied: MarkupSafe>=2.0 in /usr/local/lib/python3.10/dist-packages (from jinja2->ax-platform==0.3.4) (2.1.3)\n",
            "Requirement already satisfied: python-dateutil>=2.8.1 in /usr/local/lib/python3.10/dist-packages (from pandas->ax-platform==0.3.4) (2.8.2)\n",
            "Requirement already satisfied: pytz>=2020.1 in /usr/local/lib/python3.10/dist-packages (from pandas->ax-platform==0.3.4) (2023.3.post1)\n",
            "Requirement already satisfied: numpy>=1.21.0 in /usr/local/lib/python3.10/dist-packages (from pandas->ax-platform==0.3.4) (1.23.5)\n",
            "Requirement already satisfied: joblib>=1.1.1 in /usr/local/lib/python3.10/dist-packages (from scikit-learn->ax-platform==0.3.4) (1.3.2)\n",
            "Requirement already satisfied: threadpoolctl>=2.0.0 in /usr/local/lib/python3.10/dist-packages (from scikit-learn->ax-platform==0.3.4) (3.2.0)\n",
            "Requirement already satisfied: jupyter-client in /usr/local/lib/python3.10/dist-packages (from ipykernel>=4.5.1->ipywidgets->ax-platform==0.3.4) (6.1.12)\n",
            "Requirement already satisfied: tornado>=4.2 in /usr/local/lib/python3.10/dist-packages (from ipykernel>=4.5.1->ipywidgets->ax-platform==0.3.4) (6.3.2)\n",
            "Requirement already satisfied: setuptools>=18.5 in /usr/local/lib/python3.10/dist-packages (from ipython>=4.0.0->ipywidgets->ax-platform==0.3.4) (67.7.2)\n",
            "Requirement already satisfied: jedi>=0.16 in /usr/local/lib/python3.10/dist-packages (from ipython>=4.0.0->ipywidgets->ax-platform==0.3.4) (0.19.1)\n",
            "Requirement already satisfied: decorator in /usr/local/lib/python3.10/dist-packages (from ipython>=4.0.0->ipywidgets->ax-platform==0.3.4) (4.4.2)\n",
            "Requirement already satisfied: pickleshare in /usr/local/lib/python3.10/dist-packages (from ipython>=4.0.0->ipywidgets->ax-platform==0.3.4) (0.7.5)\n",
            "Requirement already satisfied: prompt-toolkit!=3.0.0,!=3.0.1,<3.1.0,>=2.0.0 in /usr/local/lib/python3.10/dist-packages (from ipython>=4.0.0->ipywidgets->ax-platform==0.3.4) (3.0.39)\n",
            "Requirement already satisfied: pygments in /usr/local/lib/python3.10/dist-packages (from ipython>=4.0.0->ipywidgets->ax-platform==0.3.4) (2.16.1)\n",
            "Requirement already satisfied: backcall in /usr/local/lib/python3.10/dist-packages (from ipython>=4.0.0->ipywidgets->ax-platform==0.3.4) (0.2.0)\n",
            "Requirement already satisfied: matplotlib-inline in /usr/local/lib/python3.10/dist-packages (from ipython>=4.0.0->ipywidgets->ax-platform==0.3.4) (0.1.6)\n",
            "Requirement already satisfied: pexpect>4.3 in /usr/local/lib/python3.10/dist-packages (from ipython>=4.0.0->ipywidgets->ax-platform==0.3.4) (4.8.0)\n",
            "Requirement already satisfied: opt-einsum>=2.3.2 in /usr/local/lib/python3.10/dist-packages (from pyro-ppl>=1.8.4->botorch==0.9.2->ax-platform==0.3.4) (3.3.0)\n",
            "Requirement already satisfied: pyro-api>=0.1.1 in /usr/local/lib/python3.10/dist-packages (from pyro-ppl>=1.8.4->botorch==0.9.2->ax-platform==0.3.4) (0.1.2)\n",
            "Requirement already satisfied: tqdm>=4.36 in /usr/local/lib/python3.10/dist-packages (from pyro-ppl>=1.8.4->botorch==0.9.2->ax-platform==0.3.4) (4.66.1)\n",
            "Requirement already satisfied: six>=1.5 in /usr/local/lib/python3.10/dist-packages (from python-dateutil>=2.8.1->pandas->ax-platform==0.3.4) (1.16.0)\n",
            "Requirement already satisfied: filelock in /usr/local/lib/python3.10/dist-packages (from torch>=1.13.1->botorch==0.9.2->ax-platform==0.3.4) (3.12.4)\n",
            "Requirement already satisfied: typing-extensions in /usr/local/lib/python3.10/dist-packages (from torch>=1.13.1->botorch==0.9.2->ax-platform==0.3.4) (4.5.0)\n",
            "Requirement already satisfied: sympy in /usr/local/lib/python3.10/dist-packages (from torch>=1.13.1->botorch==0.9.2->ax-platform==0.3.4) (1.12)\n",
            "Requirement already satisfied: networkx in /usr/local/lib/python3.10/dist-packages (from torch>=1.13.1->botorch==0.9.2->ax-platform==0.3.4) (3.1)\n",
            "Requirement already satisfied: triton==2.0.0 in /usr/local/lib/python3.10/dist-packages (from torch>=1.13.1->botorch==0.9.2->ax-platform==0.3.4) (2.0.0)\n",
            "Requirement already satisfied: cmake in /usr/local/lib/python3.10/dist-packages (from triton==2.0.0->torch>=1.13.1->botorch==0.9.2->ax-platform==0.3.4) (3.27.6)\n",
            "Requirement already satisfied: lit in /usr/local/lib/python3.10/dist-packages (from triton==2.0.0->torch>=1.13.1->botorch==0.9.2->ax-platform==0.3.4) (17.0.2)\n",
            "Requirement already satisfied: notebook>=4.4.1 in /usr/local/lib/python3.10/dist-packages (from widgetsnbextension~=3.6.0->ipywidgets->ax-platform==0.3.4) (6.5.5)\n",
            "Requirement already satisfied: parso<0.9.0,>=0.8.3 in /usr/local/lib/python3.10/dist-packages (from jedi>=0.16->ipython>=4.0.0->ipywidgets->ax-platform==0.3.4) (0.8.3)\n",
            "Requirement already satisfied: pyzmq<25,>=17 in /usr/local/lib/python3.10/dist-packages (from notebook>=4.4.1->widgetsnbextension~=3.6.0->ipywidgets->ax-platform==0.3.4) (23.2.1)\n",
            "Requirement already satisfied: argon2-cffi in /usr/local/lib/python3.10/dist-packages (from notebook>=4.4.1->widgetsnbextension~=3.6.0->ipywidgets->ax-platform==0.3.4) (23.1.0)\n",
            "Requirement already satisfied: jupyter-core>=4.6.1 in /usr/local/lib/python3.10/dist-packages (from notebook>=4.4.1->widgetsnbextension~=3.6.0->ipywidgets->ax-platform==0.3.4) (5.3.2)\n",
            "Requirement already satisfied: nbformat in /usr/local/lib/python3.10/dist-packages (from notebook>=4.4.1->widgetsnbextension~=3.6.0->ipywidgets->ax-platform==0.3.4) (5.9.2)\n",
            "Requirement already satisfied: nbconvert>=5 in /usr/local/lib/python3.10/dist-packages (from notebook>=4.4.1->widgetsnbextension~=3.6.0->ipywidgets->ax-platform==0.3.4) (6.5.4)\n",
            "Requirement already satisfied: nest-asyncio>=1.5 in /usr/local/lib/python3.10/dist-packages (from notebook>=4.4.1->widgetsnbextension~=3.6.0->ipywidgets->ax-platform==0.3.4) (1.5.8)\n",
            "Requirement already satisfied: Send2Trash>=1.8.0 in /usr/local/lib/python3.10/dist-packages (from notebook>=4.4.1->widgetsnbextension~=3.6.0->ipywidgets->ax-platform==0.3.4) (1.8.2)\n",
            "Requirement already satisfied: terminado>=0.8.3 in /usr/local/lib/python3.10/dist-packages (from notebook>=4.4.1->widgetsnbextension~=3.6.0->ipywidgets->ax-platform==0.3.4) (0.17.1)\n",
            "Requirement already satisfied: prometheus-client in /usr/local/lib/python3.10/dist-packages (from notebook>=4.4.1->widgetsnbextension~=3.6.0->ipywidgets->ax-platform==0.3.4) (0.17.1)\n",
            "Requirement already satisfied: nbclassic>=0.4.7 in /usr/local/lib/python3.10/dist-packages (from notebook>=4.4.1->widgetsnbextension~=3.6.0->ipywidgets->ax-platform==0.3.4) (1.0.0)\n",
            "Requirement already satisfied: ptyprocess>=0.5 in /usr/local/lib/python3.10/dist-packages (from pexpect>4.3->ipython>=4.0.0->ipywidgets->ax-platform==0.3.4) (0.7.0)\n",
            "Requirement already satisfied: wcwidth in /usr/local/lib/python3.10/dist-packages (from prompt-toolkit!=3.0.0,!=3.0.1,<3.1.0,>=2.0.0->ipython>=4.0.0->ipywidgets->ax-platform==0.3.4) (0.2.8)\n",
            "Requirement already satisfied: mpmath>=0.19 in /usr/local/lib/python3.10/dist-packages (from sympy->torch>=1.13.1->botorch==0.9.2->ax-platform==0.3.4) (1.3.0)\n",
            "Requirement already satisfied: platformdirs>=2.5 in /usr/local/lib/python3.10/dist-packages (from jupyter-core>=4.6.1->notebook>=4.4.1->widgetsnbextension~=3.6.0->ipywidgets->ax-platform==0.3.4) (3.11.0)\n",
            "Requirement already satisfied: jupyter-server>=1.8 in /usr/local/lib/python3.10/dist-packages (from nbclassic>=0.4.7->notebook>=4.4.1->widgetsnbextension~=3.6.0->ipywidgets->ax-platform==0.3.4) (1.24.0)\n",
            "Requirement already satisfied: notebook-shim>=0.2.3 in /usr/local/lib/python3.10/dist-packages (from nbclassic>=0.4.7->notebook>=4.4.1->widgetsnbextension~=3.6.0->ipywidgets->ax-platform==0.3.4) (0.2.3)\n",
            "Requirement already satisfied: lxml in /usr/local/lib/python3.10/dist-packages (from nbconvert>=5->notebook>=4.4.1->widgetsnbextension~=3.6.0->ipywidgets->ax-platform==0.3.4) (4.9.3)\n",
            "Requirement already satisfied: beautifulsoup4 in /usr/local/lib/python3.10/dist-packages (from nbconvert>=5->notebook>=4.4.1->widgetsnbextension~=3.6.0->ipywidgets->ax-platform==0.3.4) (4.11.2)\n",
            "Requirement already satisfied: bleach in /usr/local/lib/python3.10/dist-packages (from nbconvert>=5->notebook>=4.4.1->widgetsnbextension~=3.6.0->ipywidgets->ax-platform==0.3.4) (6.0.0)\n",
            "Requirement already satisfied: defusedxml in /usr/local/lib/python3.10/dist-packages (from nbconvert>=5->notebook>=4.4.1->widgetsnbextension~=3.6.0->ipywidgets->ax-platform==0.3.4) (0.7.1)\n",
            "Requirement already satisfied: entrypoints>=0.2.2 in /usr/local/lib/python3.10/dist-packages (from nbconvert>=5->notebook>=4.4.1->widgetsnbextension~=3.6.0->ipywidgets->ax-platform==0.3.4) (0.4)\n",
            "Requirement already satisfied: jupyterlab-pygments in /usr/local/lib/python3.10/dist-packages (from nbconvert>=5->notebook>=4.4.1->widgetsnbextension~=3.6.0->ipywidgets->ax-platform==0.3.4) (0.2.2)\n",
            "Requirement already satisfied: mistune<2,>=0.8.1 in /usr/local/lib/python3.10/dist-packages (from nbconvert>=5->notebook>=4.4.1->widgetsnbextension~=3.6.0->ipywidgets->ax-platform==0.3.4) (0.8.4)\n",
            "Requirement already satisfied: nbclient>=0.5.0 in /usr/local/lib/python3.10/dist-packages (from nbconvert>=5->notebook>=4.4.1->widgetsnbextension~=3.6.0->ipywidgets->ax-platform==0.3.4) (0.8.0)\n",
            "Requirement already satisfied: pandocfilters>=1.4.1 in /usr/local/lib/python3.10/dist-packages (from nbconvert>=5->notebook>=4.4.1->widgetsnbextension~=3.6.0->ipywidgets->ax-platform==0.3.4) (1.5.0)\n",
            "Requirement already satisfied: tinycss2 in /usr/local/lib/python3.10/dist-packages (from nbconvert>=5->notebook>=4.4.1->widgetsnbextension~=3.6.0->ipywidgets->ax-platform==0.3.4) (1.2.1)\n",
            "Requirement already satisfied: fastjsonschema in /usr/local/lib/python3.10/dist-packages (from nbformat->notebook>=4.4.1->widgetsnbextension~=3.6.0->ipywidgets->ax-platform==0.3.4) (2.18.1)\n",
            "Requirement already satisfied: jsonschema>=2.6 in /usr/local/lib/python3.10/dist-packages (from nbformat->notebook>=4.4.1->widgetsnbextension~=3.6.0->ipywidgets->ax-platform==0.3.4) (4.19.1)\n",
            "Requirement already satisfied: argon2-cffi-bindings in /usr/local/lib/python3.10/dist-packages (from argon2-cffi->notebook>=4.4.1->widgetsnbextension~=3.6.0->ipywidgets->ax-platform==0.3.4) (21.2.0)\n",
            "Requirement already satisfied: attrs>=22.2.0 in /usr/local/lib/python3.10/dist-packages (from jsonschema>=2.6->nbformat->notebook>=4.4.1->widgetsnbextension~=3.6.0->ipywidgets->ax-platform==0.3.4) (23.1.0)\n",
            "Requirement already satisfied: jsonschema-specifications>=2023.03.6 in /usr/local/lib/python3.10/dist-packages (from jsonschema>=2.6->nbformat->notebook>=4.4.1->widgetsnbextension~=3.6.0->ipywidgets->ax-platform==0.3.4) (2023.7.1)\n",
            "Requirement already satisfied: referencing>=0.28.4 in /usr/local/lib/python3.10/dist-packages (from jsonschema>=2.6->nbformat->notebook>=4.4.1->widgetsnbextension~=3.6.0->ipywidgets->ax-platform==0.3.4) (0.30.2)\n",
            "Requirement already satisfied: rpds-py>=0.7.1 in /usr/local/lib/python3.10/dist-packages (from jsonschema>=2.6->nbformat->notebook>=4.4.1->widgetsnbextension~=3.6.0->ipywidgets->ax-platform==0.3.4) (0.10.4)\n",
            "Requirement already satisfied: anyio<4,>=3.1.0 in /usr/local/lib/python3.10/dist-packages (from jupyter-server>=1.8->nbclassic>=0.4.7->notebook>=4.4.1->widgetsnbextension~=3.6.0->ipywidgets->ax-platform==0.3.4) (3.7.1)\n",
            "Requirement already satisfied: websocket-client in /usr/local/lib/python3.10/dist-packages (from jupyter-server>=1.8->nbclassic>=0.4.7->notebook>=4.4.1->widgetsnbextension~=3.6.0->ipywidgets->ax-platform==0.3.4) (1.6.3)\n",
            "Requirement already satisfied: cffi>=1.0.1 in /usr/local/lib/python3.10/dist-packages (from argon2-cffi-bindings->argon2-cffi->notebook>=4.4.1->widgetsnbextension~=3.6.0->ipywidgets->ax-platform==0.3.4) (1.16.0)\n",
            "Requirement already satisfied: soupsieve>1.2 in /usr/local/lib/python3.10/dist-packages (from beautifulsoup4->nbconvert>=5->notebook>=4.4.1->widgetsnbextension~=3.6.0->ipywidgets->ax-platform==0.3.4) (2.5)\n",
            "Requirement already satisfied: webencodings in /usr/local/lib/python3.10/dist-packages (from bleach->nbconvert>=5->notebook>=4.4.1->widgetsnbextension~=3.6.0->ipywidgets->ax-platform==0.3.4) (0.5.1)\n",
            "Requirement already satisfied: idna>=2.8 in /usr/local/lib/python3.10/dist-packages (from anyio<4,>=3.1.0->jupyter-server>=1.8->nbclassic>=0.4.7->notebook>=4.4.1->widgetsnbextension~=3.6.0->ipywidgets->ax-platform==0.3.4) (3.4)\n",
            "Requirement already satisfied: sniffio>=1.1 in /usr/local/lib/python3.10/dist-packages (from anyio<4,>=3.1.0->jupyter-server>=1.8->nbclassic>=0.4.7->notebook>=4.4.1->widgetsnbextension~=3.6.0->ipywidgets->ax-platform==0.3.4) (1.3.0)\n",
            "Requirement already satisfied: exceptiongroup in /usr/local/lib/python3.10/dist-packages (from anyio<4,>=3.1.0->jupyter-server>=1.8->nbclassic>=0.4.7->notebook>=4.4.1->widgetsnbextension~=3.6.0->ipywidgets->ax-platform==0.3.4) (1.1.3)\n",
            "Requirement already satisfied: pycparser in /usr/local/lib/python3.10/dist-packages (from cffi>=1.0.1->argon2-cffi-bindings->argon2-cffi->notebook>=4.4.1->widgetsnbextension~=3.6.0->ipywidgets->ax-platform==0.3.4) (2.21)\n",
            "Requirement already satisfied: wandb==0.15.12 in /usr/local/lib/python3.10/dist-packages (0.15.12)\n",
            "Requirement already satisfied: Click!=8.0.0,>=7.1 in /usr/local/lib/python3.10/dist-packages (from wandb==0.15.12) (8.1.7)\n",
            "Requirement already satisfied: GitPython!=3.1.29,>=1.0.0 in /usr/local/lib/python3.10/dist-packages (from wandb==0.15.12) (3.1.37)\n",
            "Requirement already satisfied: requests<3,>=2.0.0 in /usr/local/lib/python3.10/dist-packages (from wandb==0.15.12) (2.31.0)\n",
            "Requirement already satisfied: psutil>=5.0.0 in /usr/local/lib/python3.10/dist-packages (from wandb==0.15.12) (5.9.5)\n",
            "Requirement already satisfied: sentry-sdk>=1.0.0 in /usr/local/lib/python3.10/dist-packages (from wandb==0.15.12) (1.32.0)\n",
            "Requirement already satisfied: docker-pycreds>=0.4.0 in /usr/local/lib/python3.10/dist-packages (from wandb==0.15.12) (0.4.0)\n",
            "Requirement already satisfied: PyYAML in /usr/local/lib/python3.10/dist-packages (from wandb==0.15.12) (6.0.1)\n",
            "Requirement already satisfied: pathtools in /usr/local/lib/python3.10/dist-packages (from wandb==0.15.12) (0.1.2)\n",
            "Requirement already satisfied: setproctitle in /usr/local/lib/python3.10/dist-packages (from wandb==0.15.12) (1.3.3)\n",
            "Requirement already satisfied: setuptools in /usr/local/lib/python3.10/dist-packages (from wandb==0.15.12) (67.7.2)\n",
            "Requirement already satisfied: appdirs>=1.4.3 in /usr/local/lib/python3.10/dist-packages (from wandb==0.15.12) (1.4.4)\n",
            "Requirement already satisfied: protobuf!=4.21.0,<5,>=3.19.0 in /usr/local/lib/python3.10/dist-packages (from wandb==0.15.12) (3.20.3)\n",
            "Requirement already satisfied: six>=1.4.0 in /usr/local/lib/python3.10/dist-packages (from docker-pycreds>=0.4.0->wandb==0.15.12) (1.16.0)\n",
            "Requirement already satisfied: gitdb<5,>=4.0.1 in /usr/local/lib/python3.10/dist-packages (from GitPython!=3.1.29,>=1.0.0->wandb==0.15.12) (4.0.10)\n",
            "Requirement already satisfied: charset-normalizer<4,>=2 in /usr/local/lib/python3.10/dist-packages (from requests<3,>=2.0.0->wandb==0.15.12) (3.3.0)\n",
            "Requirement already satisfied: idna<4,>=2.5 in /usr/local/lib/python3.10/dist-packages (from requests<3,>=2.0.0->wandb==0.15.12) (3.4)\n",
            "Requirement already satisfied: urllib3<3,>=1.21.1 in /usr/local/lib/python3.10/dist-packages (from requests<3,>=2.0.0->wandb==0.15.12) (2.0.6)\n",
            "Requirement already satisfied: certifi>=2017.4.17 in /usr/local/lib/python3.10/dist-packages (from requests<3,>=2.0.0->wandb==0.15.12) (2023.7.22)\n",
            "Requirement already satisfied: smmap<6,>=3.0.1 in /usr/local/lib/python3.10/dist-packages (from gitdb<5,>=4.0.1->GitPython!=3.1.29,>=1.0.0->wandb==0.15.12) (5.0.1)\n"
          ]
        }
      ],
      "source": [
        "!python -m pip install gymnasium==0.28.1\n",
        "!python -m pip install stable-baselines3[extra]==2.1.0\n",
        "!python -m pip install ax-platform==0.3.4\n",
        "!python -m pip install wandb==0.15.12"
      ]
    },
    {
      "cell_type": "code",
      "source": [
        "# Check versions\n",
        "import importlib.metadata\n",
        "\n",
        "print(f\"torch version: {importlib.metadata.version('torch')}\")\n",
        "print(f\"gymnasium version: {importlib.metadata.version('gymnasium')}\")\n",
        "print(f\"sb3 version: {importlib.metadata.version('stable-baselines3')}\")\n",
        "print(f\"cv2 version: {importlib.metadata.version('opencv-python')}\")\n",
        "print(f\"ax version: {importlib.metadata.version('ax-platform')}\")"
      ],
      "metadata": {
        "colab": {
          "base_uri": "https://localhost:8080/"
        },
        "id": "oS0Gbj5MsoiV",
        "outputId": "356eb7b3-6170-4d4d-82c7-a58ea04c6c5b"
      },
      "execution_count": 2,
      "outputs": [
        {
          "output_type": "stream",
          "name": "stdout",
          "text": [
            "torch version: 2.0.1+cu118\n",
            "gymnasium version: 0.28.1\n",
            "sb3 version: 2.1.0\n",
            "cv2 version: 4.8.0.76\n",
            "ax version: 0.3.4\n"
          ]
        }
      ]
    },
    {
      "cell_type": "code",
      "source": [
        "import time\n",
        "import datetime\n",
        "import os\n",
        "import random\n",
        "import logging\n",
        "from typing import Any, Dict, Tuple, Union\n",
        "\n",
        "import gymnasium as gym\n",
        "import matplotlib.pyplot as plt\n",
        "import numpy as np\n",
        "import torch as th\n",
        "import cv2\n",
        "import wandb\n",
        "\n",
        "import stable_baselines3 as sb3\n",
        "from stable_baselines3.common.callbacks import BaseCallback\n",
        "from stable_baselines3.common.logger import KVWriter, Logger\n",
        "\n",
        "from ax.service.ax_client import AxClient\n",
        "from ax.service.managed_loop import optimize\n",
        "from ax.utils.notebook.plotting import render\n",
        "from ax.utils.tutorials.cnn_utils import train, evaluate"
      ],
      "metadata": {
        "colab": {
          "base_uri": "https://localhost:8080/"
        },
        "id": "NDGruskothCH",
        "outputId": "0df353a6-b08b-4189-a4ae-005473bfc0d9"
      },
      "execution_count": 3,
      "outputs": [
        {
          "output_type": "stream",
          "name": "stderr",
          "text": [
            "/usr/local/lib/python3.10/dist-packages/torch/utils/tensorboard/__init__.py:4: DeprecationWarning: distutils Version classes are deprecated. Use packaging.version instead.\n",
            "  if not hasattr(tensorboard, \"__version__\") or LooseVersion(\n",
            "[WARNING 10-12 03:12:19] ax.service.utils.with_db_settings_base: Ax currently requires a sqlalchemy version below 2.0. This will be addressed in a future release. Disabling SQL storage in Ax for now, if you would like to use SQL storage please install Ax with mysql extras via `pip install ax-platform[mysql]`.\n"
          ]
        }
      ]
    },
    {
      "cell_type": "code",
      "source": [
        "# Log in to Weights & Biases\n",
        "wandb.login()"
      ],
      "metadata": {
        "colab": {
          "base_uri": "https://localhost:8080/"
        },
        "id": "jGffRwmtumrG",
        "outputId": "2446d473-d199-4cd7-f4da-c1d22a532fec"
      },
      "execution_count": 4,
      "outputs": [
        {
          "output_type": "stream",
          "name": "stderr",
          "text": [
            "/usr/local/lib/python3.10/dist-packages/notebook/utils.py:280: DeprecationWarning:\n",
            "\n",
            "distutils Version classes are deprecated. Use packaging.version instead.\n",
            "\n",
            "\u001b[34m\u001b[1mwandb\u001b[0m: Currently logged in as: \u001b[33mshawnhymel\u001b[0m. Use \u001b[1m`wandb login --relogin`\u001b[0m to force relogin\n"
          ]
        },
        {
          "output_type": "execute_result",
          "data": {
            "text/plain": [
              "True"
            ]
          },
          "metadata": {},
          "execution_count": 4
        }
      ]
    },
    {
      "cell_type": "code",
      "source": [
        "# Make wandb be quiet\n",
        "os.environ[\"WANDB_SILENT\"] = \"true\"\n",
        "logger = logging.getLogger(\"wandb\")\n",
        "logger.setLevel(logging.ERROR)"
      ],
      "metadata": {
        "colab": {
          "base_uri": "https://localhost:8080/"
        },
        "id": "mJMjAVaours4",
        "outputId": "72fe3d86-7542-49ee-ffbc-9a0e030a6e56"
      },
      "execution_count": 5,
      "outputs": [
        {
          "output_type": "stream",
          "name": "stderr",
          "text": [
            "/usr/local/lib/python3.10/dist-packages/ipykernel/ipkernel.py:283: DeprecationWarning:\n",
            "\n",
            "`should_run_async` will not call `transform_cell` automatically in the future. Please pass the result to `transformed_cell` argument and any exception that happen during thetransform in `preprocessing_exc_tuple` in IPython 7.17 and above.\n",
            "\n"
          ]
        }
      ]
    },
    {
      "cell_type": "markdown",
      "source": [
        "## Helper functions"
      ],
      "metadata": {
        "id": "BcHBheaevLsK"
      }
    },
    {
      "cell_type": "code",
      "source": [
        "def set_random_seeds(seed: int, using_cuda: bool = False) -> None:\n",
        "  \"\"\"\n",
        "  Seed the different random generators.\n",
        "  \"\"\"\n",
        "\n",
        "  # Set seed for Python random, NumPy, and Torch\n",
        "  random.seed(seed)\n",
        "  np.random.seed(seed)\n",
        "  th.manual_seed(seed)\n",
        "\n",
        "  # Set deterministic operations for CUDA\n",
        "  if using_cuda:\n",
        "    th.backends.cudnn.deterministic = True\n",
        "    th.backends.cudnn.benchmark = False"
      ],
      "metadata": {
        "id": "A6OU4sapvI-9"
      },
      "execution_count": 6,
      "outputs": []
    },
    {
      "cell_type": "markdown",
      "source": [
        "## Set up environment"
      ],
      "metadata": {
        "id": "YOb1IIkfv0LG"
      }
    },
    {
      "cell_type": "code",
      "source": [
        "# Create the environment\n",
        "# https://gymnasium.farama.org/environments/classic_control/pendulum/\n",
        "env = gym.make('Pendulum-v1', render_mode='rgb_array')"
      ],
      "metadata": {
        "id": "oacGCl8Wvzen"
      },
      "execution_count": 7,
      "outputs": []
    },
    {
      "cell_type": "code",
      "source": [
        "# Reset the pendulum environment\n",
        "obs, info = env.reset()\n",
        "print(obs)\n",
        "print(info)"
      ],
      "metadata": {
        "colab": {
          "base_uri": "https://localhost:8080/"
        },
        "id": "uqPudDyIwT8u",
        "outputId": "611dab3a-06f1-45ec-ea14-52393a8fadc0"
      },
      "execution_count": 8,
      "outputs": [
        {
          "output_type": "stream",
          "name": "stdout",
          "text": [
            "[0.98093146 0.19435388 0.6942826 ]\n",
            "{}\n"
          ]
        }
      ]
    },
    {
      "cell_type": "code",
      "source": [
        "# Render the environment (render is not the observation!) and get width/height\n",
        "frame = env.render()\n",
        "width = frame.shape[1]\n",
        "height = frame.shape[0]\n",
        "\n",
        "# Show frame\n",
        "print(frame.shape)\n",
        "plt.imshow(frame)"
      ],
      "metadata": {
        "colab": {
          "base_uri": "https://localhost:8080/",
          "height": 470
        },
        "id": "E_5dY0JrwccC",
        "outputId": "d0562f1c-336b-4136-f54f-25d1b4ab0113"
      },
      "execution_count": 9,
      "outputs": [
        {
          "output_type": "stream",
          "name": "stdout",
          "text": [
            "(500, 500, 3)\n"
          ]
        },
        {
          "output_type": "execute_result",
          "data": {
            "text/plain": [
              "<matplotlib.image.AxesImage at 0x7e47fb733d30>"
            ]
          },
          "metadata": {},
          "execution_count": 9
        },
        {
          "output_type": "display_data",
          "data": {
            "text/plain": [
              "<Figure size 640x480 with 1 Axes>"
            ],
            "image/png": "[encoded data removed]"
          },
          "metadata": {}
        }
      ]
    },
    {
      "cell_type": "code",
      "source": [
        "# Function that tests the model in the given environment\n",
        "def test_agent(env, model, max_steps=0, video=None, msg=None):\n",
        "\n",
        "  # Reset environment\n",
        "  obs, info = env.reset()\n",
        "  ep_len = 0\n",
        "  ep_rew = 0\n",
        "  avg_step_time = 0.0\n",
        "\n",
        "  # Run episode until complete\n",
        "  while True:\n",
        "\n",
        "    # Provide observation to policy to predict the next action\n",
        "    timestamp = time.time()\n",
        "    action, _ = model.predict(obs)\n",
        "\n",
        "    # Perform action, update total reward\n",
        "    obs, reward, terminated, truncated, info = env.step(action)\n",
        "    avg_step_time += time.time() - timestamp\n",
        "    ep_rew += reward\n",
        "\n",
        "    # Record frame to video\n",
        "    if video:\n",
        "      frame = env.render()\n",
        "      frame = cv2.cvtColor(frame, cv2.COLOR_RGB2BGR)\n",
        "      frame = cv2.putText(\n",
        "          frame,                        # Image\n",
        "          msg,                          # Text to add\n",
        "          (10, 25),                     # Origin of text in image\n",
        "          cv2.FONT_HERSHEY_SIMPLEX,     # Font\n",
        "          1,                            # Font scale\n",
        "          (0, 0, 0),                    # Color\n",
        "          2,                            # Thickness\n",
        "          cv2.LINE_AA                   # Line type\n",
        "      )\n",
        "      video.write(frame)\n",
        "\n",
        "    # Increase step counter\n",
        "    ep_len += 1\n",
        "    if (max_steps > 0) and (ep_len >= max_steps):\n",
        "      break\n",
        "\n",
        "    # Check to see if episode has ended\n",
        "    if terminated or truncated:\n",
        "      break\n",
        "\n",
        "  # Calculate average step time\n",
        "  avg_step_time /= ep_len\n",
        "\n",
        "  return ep_len, ep_rew, avg_step_time"
      ],
      "metadata": {
        "id": "y8XAkfuGw1Sn"
      },
      "execution_count": 10,
      "outputs": []
    },
    {
      "cell_type": "code",
      "source": [
        "class DummyAgent():\n",
        "  \"\"\"\n",
        "  Agent that just predicts random actions\n",
        "  \"\"\"\n",
        "\n",
        "  # Save environment\n",
        "  def __init__(self, env):\n",
        "    self.env = env\n",
        "\n",
        "  # Always output random action regardless of observation\n",
        "  def predict(self, obs):\n",
        "    action = self.env.action_space.sample()\n",
        "    return action, None"
      ],
      "metadata": {
        "id": "CgYU9QvTzBrh"
      },
      "execution_count": 11,
      "outputs": []
    },
    {
      "cell_type": "code",
      "source": [
        "# Recorder settings\n",
        "FPS = 30\n",
        "FOURCC = cv2.VideoWriter.fourcc('m', 'p', '4', 'v')\n",
        "VIDEO_FILENAME = \"1-random.mp4\"\n",
        "\n",
        "# Create recorder\n",
        "video = cv2.VideoWriter(VIDEO_FILENAME, FOURCC, FPS, (width, height))\n",
        "\n",
        "# Try runnign a few episodes with the environment and random actions\n",
        "dummy_agent = DummyAgent(env)\n",
        "for ep in range(5):\n",
        "  ep_len, ep_rew, step_time = test_agent(env, dummy_agent, max_steps=100, video=video, msg=f\"Random, episode {ep}\")\n",
        "  print(f\"Episode {ep} | Length: {ep_len}, Reward: {ep_rew}, Step time: {(step_time * 1000):.2e} ms\")\n",
        "\n",
        "# Close the video writer\n",
        "video.release()"
      ],
      "metadata": {
        "colab": {
          "base_uri": "https://localhost:8080/"
        },
        "id": "2GfPBfvZzVJT",
        "outputId": "0ac92bbc-6502-481f-d904-52352e46f660"
      },
      "execution_count": 12,
      "outputs": [
        {
          "output_type": "stream",
          "name": "stdout",
          "text": [
            "Episode 0 | Length: 100, Reward: -616.6691684993609, Step time: 3.18e-01 ms\n",
            "Episode 1 | Length: 100, Reward: -603.0561702820014, Step time: 3.24e-01 ms\n",
            "Episode 2 | Length: 100, Reward: -695.7293665369457, Step time: 2.99e-01 ms\n",
            "Episode 3 | Length: 100, Reward: -743.3874459309851, Step time: 2.84e-01 ms\n",
            "Episode 4 | Length: 100, Reward: -486.37857900471533, Step time: 1.04e+00 ms\n"
          ]
        }
      ]
    },
    {
      "cell_type": "markdown",
      "source": [
        "## Testing and logging callbacks"
      ],
      "metadata": {
        "id": "LAeopWRl0XDP"
      }
    },
    {
      "cell_type": "code",
      "source": [
        "# Evaluate agent on a number of tests\n",
        "def evaluate_agent(env, model, steps_per_test, num_tests):\n",
        "\n",
        "  # Initialize metrics\n",
        "  avg_ep_len = 0\n",
        "  avg_ep_rew = 0\n",
        "  avg_step_time = 0.0\n",
        "\n",
        "  # Test the agent a number of times\n",
        "  for ep in range(num_tests):\n",
        "    ep_len, ep_rew, step_time = test_agent(env, model, max_steps=steps_per_test)\n",
        "    avg_ep_len += ep_len\n",
        "    avg_ep_rew += ep_rew\n",
        "    avg_step_time += step_time\n",
        "\n",
        "  # Compute metrics\n",
        "  avg_ep_len /= num_tests\n",
        "  avg_ep_rew /= num_tests\n",
        "  avg_step_time /= num_tests\n",
        "\n",
        "  return avg_ep_len, avg_ep_rew, avg_step_time"
      ],
      "metadata": {
        "id": "AjUVBPFzz_-r"
      },
      "execution_count": 13,
      "outputs": []
    },
    {
      "cell_type": "code",
      "source": [
        "class EvalAndSaveCallback(BaseCallback):\n",
        "  \"\"\"\n",
        "  Evaluate and save the model every ``check_freq`` steps\n",
        "  \"\"\"\n",
        "\n",
        "  # Constructor\n",
        "  def __init__(\n",
        "      self,\n",
        "      check_freq,\n",
        "      save_dir,\n",
        "      model_name=\"model\",\n",
        "      replay_buffer_name=None,\n",
        "      steps_per_test=0,\n",
        "      num_tests=10,\n",
        "      step_offset=0,\n",
        "      verbose=1,\n",
        "  ):\n",
        "    super(EvalAndSaveCallback, self).__init__(verbose)\n",
        "    self.check_freq = check_freq\n",
        "    self.save_dir = save_dir\n",
        "    self.model_name = model_name\n",
        "    self.replay_buffer_name = replay_buffer_name\n",
        "    self.num_tests = num_tests\n",
        "    self.steps_per_test = steps_per_test\n",
        "    self.step_offset = step_offset\n",
        "    self.verbose = verbose\n",
        "\n",
        "  # Create directory for saving the models\n",
        "  def _init_callback(self):\n",
        "    if self.save_dir is not None:\n",
        "      os.makedirs(self.save_dir, exist_ok=True)\n",
        "\n",
        "  # Save and evaluate model at a set interval\n",
        "  def _on_step(self):\n",
        "    if self.n_calls % self.check_freq == 0:\n",
        "\n",
        "      # Set actual number of steps (including offset)\n",
        "      actual_steps = self.step_offset + self.n_calls\n",
        "\n",
        "      # Save model\n",
        "      model_path = os.path.join(self.save_dir, f\"{self.model_name}_{str(actual_steps)}\")\n",
        "      self.model.save(model_path)\n",
        "\n",
        "      # Save replay buffer\n",
        "      if self.replay_buffer_name != None:\n",
        "        replay_buffer_path = os.path.join(self.save_dir, f\"{self.replay_buffer_name}\")\n",
        "        self.model.save_replay_buffer(replay_buffer_path)\n",
        "\n",
        "      # Evaluate the agent\n",
        "      avg_ep_len, avg_ep_rew, avg_step_time = evaluate_agent(\n",
        "          env,\n",
        "          self.model,\n",
        "          self.steps_per_test,\n",
        "          self.num_tests\n",
        "      )\n",
        "      if self.verbose:\n",
        "        print(f\"{str(actual_steps)} steps | average test length: {avg_ep_len}, average test reward: {avg_ep_rew}\")\n",
        "\n",
        "      # Log metrics to WandB\n",
        "      log_dict = {\n",
        "          'avg_ep_len': avg_ep_len,\n",
        "          'avg_ep_rew': avg_ep_rew,\n",
        "          'avg_step_time': avg_step_time,\n",
        "          'train/actor_loss': self.model.logger.name_to_value['train/n_updates'],\n",
        "          'train/approx_k1': self.model.logger.name_to_value['train/approx_k1'],\n",
        "          'train/clip_fraction': self.model.logger.name_to_value['train/clip_fraction'],\n",
        "          'train/clip_range': self.model.logger.name_to_value['train/clip_range'],\n",
        "          'train/critic_loss': self.model.logger.name_to_value['train/critic_loss'],\n",
        "          'train/ent_coef': self.model.logger.name_to_value['train/ent_coef'],\n",
        "          'train/ent_coef_loss': self.model.logger.name_to_value['train/ent_coef_loss'],\n",
        "          'train/entropy_loss': self.model.logger.name_to_value['train/entropy_loss'],\n",
        "          'train/explained_variance': self.model.logger.name_to_value['train/explained_variance'],\n",
        "          'train/learning_rate': self.model.logger.name_to_value['train/learning_rate'],\n",
        "          'train/loss': self.model.logger.name_to_value['train/loss'],\n",
        "          'train/n_updates': self.model.logger.name_to_value['train/n_updates'],\n",
        "          'train/policy_gradient_loss': self.model.logger.name_to_value['train/policy_gradient_loss'],\n",
        "          'train/value_loss': self.model.logger.name_to_value['train/value_loss'],\n",
        "          'train/std': self.model.logger.name_to_value['train/std'],\n",
        "      }\n",
        "      wandb.log(log_dict, commit=True, step=actual_steps)\n",
        "\n",
        "    return True"
      ],
      "metadata": {
        "id": "i-XrANVW1Jh6"
      },
      "execution_count": 29,
      "outputs": []
    },
    {
      "cell_type": "code",
      "source": [
        "class WandBWriter(KVWriter):\n",
        "  \"\"\"\n",
        "  Log metrics to Weights & Biases when called by .learn()\n",
        "  \"\"\"\n",
        "\n",
        "  # Initialize run\n",
        "  def __init__(self, run, verbose=1):\n",
        "    super().__init__()\n",
        "    self.run = run\n",
        "    self.verbose = verbose\n",
        "\n",
        "  # Write metrics to W&B project\n",
        "  def write(\n",
        "    self,\n",
        "    key_values: Dict[str, Any],\n",
        "    key_excluded: Dict[str, Union[str, Tuple[str, ...]]],\n",
        "    step: int = 0,\n",
        "  ) -> None:\n",
        "\n",
        "    log_dict = {}\n",
        "\n",
        "    # Go through each key/value pairs\n",
        "    for (key, value), (_, excluded) in zip(\n",
        "      sorted(key_values.items()), sorted(key_excluded.items())):\n",
        "\n",
        "      if self.verbose >= 2:\n",
        "        print(f\"step={step} | {key} : {value} ({type(value)})\")\n",
        "\n",
        "      # Skip excluded items\n",
        "      if excluded is not None and \"wandb\" in excluded:\n",
        "        continue\n",
        "\n",
        "      # Log integers and floats\n",
        "      if isinstance(value, np.ScalarType):\n",
        "        if not isinstance(value, str):\n",
        "          wandb.log(data={key: value}, step=step)\n",
        "          log_dict[key] = value\n",
        "\n",
        "    # Print to console\n",
        "    if self.verbose >= 1:\n",
        "      print(f\"Log for steps={step}\")\n",
        "      print(f\"--------------\")\n",
        "      for (key, value) in sorted(log_dict.items()):\n",
        "        print(f\"  {key}: {value}\")\n",
        "      print()\n",
        "\n",
        "  # Close the W&B run\n",
        "  def close(self) -> None:\n",
        "    self.run.finish()"
      ],
      "metadata": {
        "id": "igcdYah638M8"
      },
      "execution_count": 30,
      "outputs": []
    },
    {
      "cell_type": "markdown",
      "source": [
        "## Define train and test function for a single trial"
      ],
      "metadata": {
        "id": "yU0AIz1w5zN4"
      }
    },
    {
      "cell_type": "code",
      "source": [
        "def do_trial(settings, hparams):\n",
        "  \"\"\"\n",
        "  Training loop used to evaluate a set of hyperparameters\n",
        "  \"\"\"\n",
        "\n",
        "  # Set random seed\n",
        "  set_random_seeds(settings['seed'], using_cuda=th.cuda.is_available())\n",
        "\n",
        "  # Create new W&B run\n",
        "  config = {}\n",
        "  dt = datetime.datetime.now(datetime.timezone.utc)\n",
        "  dt = dt.replace(microsecond=0, tzinfo=None)\n",
        "  run = wandb.init(\n",
        "      project=settings['wandb_project'],\n",
        "      name=str(dt),\n",
        "      config=config,\n",
        "      settings=wandb.Settings(silent=(not settings['verbose_wandb']))\n",
        "  )\n",
        "\n",
        "  # Print run info\n",
        "  if settings['verbose_trial'] > 0:\n",
        "    print(f\"WandB run ID: {run.id}\")\n",
        "    print(f\"WandB run name: {run.name}\")\n",
        "\n",
        "  # Log hyperparameters to W&B\n",
        "  wandb.config.update(hparams)\n",
        "\n",
        "  # Set custom Logger with our custom writer\n",
        "  wandb_writer = WandBWriter(run, verbose=settings['verbose_log'])\n",
        "  loggers = Logger(\n",
        "      folder=None,\n",
        "      output_formats=[wandb_writer]\n",
        "  )\n",
        "\n",
        "  # Calculate derived hyperparameters\n",
        "  n_steps = 2 ** hparams['steps_per_update_pow2']\n",
        "  minibatch_size = (hparams['n_envs'] * n_steps) // (2 ** hparams['batch_size_div_pow2'])\n",
        "  layer_1 = 2 ** hparams['layer_1_pow2']\n",
        "  layer_2 = 2 ** hparams['layer_2_pow2']\n",
        "\n",
        "  # Set completed steps to checkpoint number (in filename) or 0 to start over\n",
        "  # TODO: how to resume if trial is paused/cancelled\n",
        "  completed_steps = 0\n",
        "\n",
        "  # Load or create new model\n",
        "  if completed_steps != 0:\n",
        "    model_path = os.path.join(settings['save_dir'], f\"{settings['model_name']}_{str(completed_steps)}.zip\")\n",
        "    model = sb3.PPO.load(model_path, env)\n",
        "    steps_to_complete = settings['total_steps'] - completed_steps\n",
        "  else:\n",
        "    model = sb3.PPO(\n",
        "        'MlpPolicy',\n",
        "        env,\n",
        "        learning_rate=hparams['learning_rate'],\n",
        "        n_steps=n_steps,\n",
        "        batch_size=minibatch_size,\n",
        "        gamma=hparams['gamma'],\n",
        "        ent_coef=hparams['entropy_coef'],\n",
        "        use_sde=hparams['use_sde'],\n",
        "        sde_sample_freq=hparams['sde_freq'],\n",
        "        policy_kwargs={'net_arch': [layer_1, layer_2]},\n",
        "        verbose=settings['verbose_train'],\n",
        "    )\n",
        "    steps_to_complete = settings['total_steps']\n",
        "\n",
        "  # Set up checkpoint callback\n",
        "  checkpoint_callback = EvalAndSaveCallback(\n",
        "      check_freq=settings['checkpoint_freq'],\n",
        "      save_dir=settings['save_dir'],\n",
        "      model_name=settings['model_name'],\n",
        "      replay_buffer_name=settings['replay_buffer_name'],\n",
        "      steps_per_test=settings['steps_per_test'],\n",
        "      num_tests=settings['tests_per_check'],\n",
        "      step_offset=(settings['total_steps'] - steps_to_complete),\n",
        "      verbose=settings['verbose_test'],\n",
        "  )\n",
        "\n",
        "  # Choo choo train\n",
        "  model.learn(total_timesteps=steps_to_complete,\n",
        "              callback=[checkpoint_callback])\n",
        "\n",
        "  # Get dataframe of run metrics\n",
        "  history = wandb.Api().run(f\"{run.project}/{run.id}\").history()\n",
        "\n",
        "  # Get index of evaluation with maximum reward\n",
        "  max_idx = np.argmax(history.loc[:, 'avg_ep_rew'].values)\n",
        "\n",
        "  # Find number of steps required to produce that maximum reward\n",
        "  max_rew_steps = history['_step'][max_idx]\n",
        "  if settings['verbose_trial'] > 0:\n",
        "    print(f\"Steps with max reward: {max_rew_steps}\")\n",
        "\n",
        "  # Load model with maximum reward from previous run\n",
        "  model_path = os.path.join(settings['save_dir'], f\"{settings['model_name']}_{str(max_rew_steps)}.zip\")\n",
        "  model = sb3.PPO.load(model_path, env)\n",
        "\n",
        "  # Evaluate the agent\n",
        "  avg_ep_len, avg_ep_rew, avg_step_time = evaluate_agent(\n",
        "      env,\n",
        "      model,\n",
        "      settings['steps_per_test'],\n",
        "      settings['tests_per_check'],\n",
        "  )\n",
        "\n",
        "  # Log final evaluation metrics to WandB run\n",
        "  wandb.run.summary['Average test episode length'] = avg_ep_len\n",
        "  wandb.run.summary['Average test episode reward'] = avg_ep_rew\n",
        "  wandb.run.summary['Average test step time'] = avg_step_time\n",
        "\n",
        "  # Print final run metrics\n",
        "  if settings['verbose_trial'] > 0:\n",
        "    print('---')\n",
        "    print(f\"Best model: {settings['model_name']}_{str(max_rew_steps)}.zip\")\n",
        "    print(f\"Average episode length: {avg_ep_len}\")\n",
        "    print(f\"Average episode reward: {avg_ep_rew}\")\n",
        "    print(f\"Average step time: {avg_step_time}\")\n",
        "\n",
        "  # Close W&B run\n",
        "  run.finish()\n",
        "\n",
        "  return avg_ep_rew"
      ],
      "metadata": {
        "id": "7PVaBCcQ5yNf"
      },
      "execution_count": 31,
      "outputs": []
    },
    {
      "cell_type": "markdown",
      "source": [
        "## Perform trials"
      ],
      "metadata": {
        "id": "r6lTBKWVECCk"
      }
    },
    {
      "cell_type": "code",
      "source": [
        "# Project settings that do not change\n",
        "settings = {\n",
        "    'wandb_project': \"pendulum-ax-hpo\",\n",
        "    'model_name': \"ppo-pendulum\",\n",
        "    'ax_experiment_name': \"ppo-pendulum-experiment\",\n",
        "    'ax_objective_name': \"avg_ep_rew\",\n",
        "    'replay_buffer_name': None,\n",
        "    'save_dir': \"checkpoints\",\n",
        "    'checkpoint_freq': 10_000,\n",
        "    'steps_per_test': 100,\n",
        "    'tests_per_check': 10,\n",
        "    'total_steps': 100_000,\n",
        "    'num_trials': 50,\n",
        "    'seed': 42,\n",
        "    'verbose_ax': False,\n",
        "    'verbose_wandb': False,\n",
        "    'verbose_train': 0,\n",
        "    'verbose_log': 0,\n",
        "    'verbose_test': 0,\n",
        "    'verbose_trial': 1,\n",
        "}"
      ],
      "metadata": {
        "id": "Rg4dtkmr_xo0"
      },
      "execution_count": 60,
      "outputs": []
    },
    {
      "cell_type": "code",
      "source": [
        "# Define the hyperparameters we want to optimize\n",
        "hparams = [\n",
        "  {\n",
        "    'name': \"n_envs\",\n",
        "    'type': \"fixed\",\n",
        "    'value_type': \"int\",\n",
        "    'value': 1,\n",
        "  },\n",
        "  {\n",
        "    'name': \"learning_rate\",\n",
        "    'type': \"range\",\n",
        "    'value_type': \"float\",\n",
        "    'bounds': [1e-5, 1e-2],\n",
        "    'log_scale': True,\n",
        "  },\n",
        "  {\n",
        "    'name': \"steps_per_update_pow2\",\n",
        "    'type': \"range\",\n",
        "    'value_type': \"int\",\n",
        "    'bounds': [6, 12],    # Inclusive, 2**n between [64, 4096]\n",
        "    'log_scale': False,\n",
        "  },\n",
        "  {\n",
        "    'name': \"batch_size_div_pow2\",\n",
        "    'type': \"range\",\n",
        "    'value_type': \"int\",\n",
        "    'bounds': [0, 3],    # Inclusive, 2**n between [1, 8]\n",
        "    'log_scale': False,\n",
        "  },\n",
        "  {\n",
        "    'name': \"gamma\",\n",
        "    'type': \"range\",\n",
        "    'value_type': \"float\",\n",
        "    'bounds': [0.9, 0.99],\n",
        "    'log_scale': False,\n",
        "  },\n",
        "  {\n",
        "    'name': \"entropy_coef\",\n",
        "    'type': \"range\",\n",
        "    'value_type': \"float\",\n",
        "    'bounds': [0.0, 0.1],\n",
        "    'log_scale': False,\n",
        "  },\n",
        "  {\n",
        "    'name': \"use_sde\",\n",
        "    'type': \"choice\",\n",
        "    'value_type': \"bool\",\n",
        "    'values': [True, False],\n",
        "    'is_ordered': False,\n",
        "    'sort_values': False,\n",
        "  },\n",
        "  {\n",
        "    'name': \"sde_freq\",\n",
        "    'type': \"range\",\n",
        "    'value_type': \"int\",\n",
        "    'bounds': [-1, 8],\n",
        "    'log_scale': False,\n",
        "  },\n",
        "  {\n",
        "    'name': \"layer_1_pow2\",\n",
        "    'type': \"range\",\n",
        "    'value_type': \"int\",\n",
        "    'bounds': [5, 8],    # Inclusive, 2**n between [32, 256]\n",
        "    'log_scale': False,\n",
        "  },\n",
        "  {\n",
        "    'name': \"layer_2_pow2\",\n",
        "    'type': \"range\",\n",
        "    'value_type': \"int\",\n",
        "    'bounds': [5, 8],    # Inclusive, 2**n between [32, 256]\n",
        "    'log_scale': False,\n",
        "  },\n",
        "]\n",
        "\n",
        "# Set parameter constraints\n",
        "parameter_constraints = []"
      ],
      "metadata": {
        "id": "IpI9I5yqFIXR"
      },
      "execution_count": 61,
      "outputs": []
    },
    {
      "cell_type": "code",
      "source": [
        "# Create our environment\n",
        "try:\n",
        "  env.close()\n",
        "except NameError:\n",
        "  pass\n",
        "env = gym.make('Pendulum-v1', render_mode='rgb_array')"
      ],
      "metadata": {
        "id": "SscKfHeXIQAs"
      },
      "execution_count": 62,
      "outputs": []
    },
    {
      "cell_type": "code",
      "source": [
        "# Construct path to Ax experiment snapshot file\n",
        "ax_snapshot_path = os.path.join(settings['save_dir'], f\"{settings['ax_experiment_name']}.json\")"
      ],
      "metadata": {
        "id": "uuj5djxwIZKF"
      },
      "execution_count": 63,
      "outputs": []
    },
    {
      "cell_type": "code",
      "source": [
        "# DANGER! Uncomment to delete the experiment file to start over\n",
        "# os.remove(ax_snapshot_path)"
      ],
      "metadata": {
        "id": "wxCMq2XVIj54"
      },
      "execution_count": 64,
      "outputs": []
    },
    {
      "cell_type": "code",
      "source": [
        "# Load experiment from snapshot if it exists, otherwise create a new one\n",
        "if os.path.exists(ax_snapshot_path):\n",
        "  print(f\"Loading experiment from snapshot: {ax_snapshot_path}\")\n",
        "  ax_client = AxClient.load_from_json_file(ax_snapshot_path)\n",
        "else:\n",
        "  print(f\"Creating new experiment. Snapshot to be saved at {ax_snapshot_path}.\")\n",
        "  ax_client = AxClient(\n",
        "      random_seed=settings['seed'],\n",
        "      verbose_logging=settings['verbose_ax']\n",
        "  )\n",
        "  ax_client.create_experiment(\n",
        "      name=settings['ax_experiment_name'],\n",
        "      parameters=hparams,\n",
        "      objective_name=settings['ax_objective_name'],\n",
        "      minimize=False,\n",
        "      parameter_constraints=parameter_constraints,\n",
        "  )"
      ],
      "metadata": {
        "colab": {
          "base_uri": "https://localhost:8080/"
        },
        "id": "TeA7nVudIumc",
        "outputId": "0d0cf88d-61c5-4d9b-f096-8e25be9d00b6"
      },
      "execution_count": 65,
      "outputs": [
        {
          "output_type": "stream",
          "name": "stdout",
          "text": [
            "Loading experiment from snapshot: checkpoints/ppo-pendulum-experiment.json\n"
          ]
        },
        {
          "output_type": "stream",
          "name": "stderr",
          "text": [
            "/usr/local/lib/python3.10/dist-packages/ax/core/parameter.py:517: UserWarning:\n",
            "\n",
            "`sort_values` is not specified for `ChoiceParameter` \"use_sde\". Defaulting to `True` for parameters of `ParameterType` BOOL. To override this behavior (or avoid this warning), specify `sort_values` during `ChoiceParameter` construction.\n",
            "\n"
          ]
        }
      ]
    },
    {
      "cell_type": "code",
      "source": [
        "# Choo choo! Perform trials to optimize hyperparameters\n",
        "while True:\n",
        "\n",
        "  # Get next hyperparameters and end experiment if we've reached max trials\n",
        "  next_hparams, trial_index = ax_client.get_next_trial()\n",
        "  if trial_index >= settings['num_trials']:\n",
        "    break\n",
        "\n",
        "  # Show that we're starting a new trial\n",
        "  if settings['verbose_trial'] > 0:\n",
        "    print(f\"--- Trial {trial_index} ---\")\n",
        "\n",
        "  # Perform trial\n",
        "  avg_ep_rew = do_trial(settings, next_hparams)\n",
        "  ax_client.complete_trial(\n",
        "      trial_index=trial_index,\n",
        "      raw_data=avg_ep_rew,\n",
        "  )\n",
        "\n",
        "  # Save experiment snapshot\n",
        "  ax_client.save_to_json_file(ax_snapshot_path)"
      ],
      "metadata": {
        "colab": {
          "base_uri": "https://localhost:8080/",
          "height": 1000
        },
        "id": "KZ319agwJt3t",
        "outputId": "ba55232b-925e-47bf-d82a-bbea3d7906c3"
      },
      "execution_count": 66,
      "outputs": [
        {
          "output_type": "stream",
          "name": "stderr",
          "text": [
            "/usr/local/lib/python3.10/dist-packages/ax/modelbridge/transforms/winsorize.py:348: DeprecationWarning:\n",
            "\n",
            "the `interpolation=` argument to percentile was renamed to `method=`, which has additional options.\n",
            "Users of the modes 'nearest', 'lower', 'higher', or 'midpoint' are encouraged to review the method they used. (Deprecated NumPy 1.22)\n",
            "\n"
          ]
        },
        {
          "output_type": "stream",
          "name": "stdout",
          "text": [
            "--- Trial 30 ---\n"
          ]
        },
        {
          "output_type": "display_data",
          "data": {
            "text/plain": [
              "<IPython.core.display.HTML object>"
            ],
            "text/html": [
              "Changes to your `wandb` environment variables will be ignored because your `wandb` session has already started. For more information on how to modify your settings with `wandb.init()` arguments, please refer to <a href='https://wandb.me/wandb-init' target=\"_blank\">the W&B docs</a>."
            ]
          },
          "metadata": {}
        },
        {
          "output_type": "stream",
          "name": "stdout",
          "text": [
            "WandB run ID: ew013w2g\n",
            "WandB run name: 2023-10-12 04:25:31\n",
            "Steps with max reward: 90000\n",
            "---\n",
            "Best model: ppo-pendulum_90000.zip\n",
            "Average episode length: 100.0\n",
            "Average episode reward: -210.91877091894042\n",
            "Average step time: 0.0005460917949676513\n"
          ]
        },
        {
          "output_type": "stream",
          "name": "stderr",
          "text": [
            "/usr/local/lib/python3.10/dist-packages/ax/modelbridge/transforms/winsorize.py:348: DeprecationWarning:\n",
            "\n",
            "the `interpolation=` argument to percentile was renamed to `method=`, which has additional options.\n",
            "Users of the modes 'nearest', 'lower', 'higher', or 'midpoint' are encouraged to review the method they used. (Deprecated NumPy 1.22)\n",
            "\n"
          ]
        },
        {
          "output_type": "stream",
          "name": "stdout",
          "text": [
            "--- Trial 31 ---\n"
          ]
        },
        {
          "output_type": "display_data",
          "data": {
            "text/plain": [
              "<IPython.core.display.HTML object>"
            ],
            "text/html": [
              "Changes to your `wandb` environment variables will be ignored because your `wandb` session has already started. For more information on how to modify your settings with `wandb.init()` arguments, please refer to <a href='https://wandb.me/wandb-init' target=\"_blank\">the W&B docs</a>."
            ]
          },
          "metadata": {}
        },
        {
          "output_type": "stream",
          "name": "stdout",
          "text": [
            "WandB run ID: tu9x8pvw\n",
            "WandB run name: 2023-10-12 04:27:31\n",
            "Steps with max reward: 100000\n",
            "---\n",
            "Best model: ppo-pendulum_100000.zip\n",
            "Average episode length: 100.0\n",
            "Average episode reward: -215.27741470317216\n",
            "Average step time: 0.0005431008338928223\n"
          ]
        },
        {
          "output_type": "stream",
          "name": "stderr",
          "text": [
            "/usr/local/lib/python3.10/dist-packages/ax/modelbridge/transforms/winsorize.py:348: DeprecationWarning:\n",
            "\n",
            "the `interpolation=` argument to percentile was renamed to `method=`, which has additional options.\n",
            "Users of the modes 'nearest', 'lower', 'higher', or 'midpoint' are encouraged to review the method they used. (Deprecated NumPy 1.22)\n",
            "\n"
          ]
        },
        {
          "output_type": "stream",
          "name": "stdout",
          "text": [
            "--- Trial 32 ---\n"
          ]
        },
        {
          "output_type": "display_data",
          "data": {
            "text/plain": [
              "<IPython.core.display.HTML object>"
            ],
            "text/html": [
              "Changes to your `wandb` environment variables will be ignored because your `wandb` session has already started. For more information on how to modify your settings with `wandb.init()` arguments, please refer to <a href='https://wandb.me/wandb-init' target=\"_blank\">the W&B docs</a>."
            ]
          },
          "metadata": {}
        },
        {
          "output_type": "stream",
          "name": "stdout",
          "text": [
            "WandB run ID: x2d2b3xi\n",
            "WandB run name: 2023-10-12 04:29:41\n",
            "Steps with max reward: 70000\n",
            "---\n",
            "Best model: ppo-pendulum_70000.zip\n",
            "Average episode length: 100.0\n",
            "Average episode reward: -169.50121559907456\n",
            "Average step time: 0.0008610973358154297\n"
          ]
        },
        {
          "output_type": "stream",
          "name": "stderr",
          "text": [
            "/usr/local/lib/python3.10/dist-packages/ax/modelbridge/transforms/winsorize.py:348: DeprecationWarning:\n",
            "\n",
            "the `interpolation=` argument to percentile was renamed to `method=`, which has additional options.\n",
            "Users of the modes 'nearest', 'lower', 'higher', or 'midpoint' are encouraged to review the method they used. (Deprecated NumPy 1.22)\n",
            "\n"
          ]
        },
        {
          "output_type": "stream",
          "name": "stdout",
          "text": [
            "--- Trial 33 ---\n"
          ]
        },
        {
          "output_type": "display_data",
          "data": {
            "text/plain": [
              "<IPython.core.display.HTML object>"
            ],
            "text/html": [
              "Changes to your `wandb` environment variables will be ignored because your `wandb` session has already started. For more information on how to modify your settings with `wandb.init()` arguments, please refer to <a href='https://wandb.me/wandb-init' target=\"_blank\">the W&B docs</a>."
            ]
          },
          "metadata": {}
        },
        {
          "output_type": "stream",
          "name": "stdout",
          "text": [
            "WandB run ID: 3xhwfmuh\n",
            "WandB run name: 2023-10-12 04:31:37\n",
            "Steps with max reward: 80000\n",
            "---\n",
            "Best model: ppo-pendulum_80000.zip\n",
            "Average episode length: 100.0\n",
            "Average episode reward: -269.1187102474776\n",
            "Average step time: 0.0005443634986877442\n"
          ]
        },
        {
          "output_type": "stream",
          "name": "stderr",
          "text": [
            "/usr/local/lib/python3.10/dist-packages/ax/modelbridge/transforms/winsorize.py:348: DeprecationWarning:\n",
            "\n",
            "the `interpolation=` argument to percentile was renamed to `method=`, which has additional options.\n",
            "Users of the modes 'nearest', 'lower', 'higher', or 'midpoint' are encouraged to review the method they used. (Deprecated NumPy 1.22)\n",
            "\n"
          ]
        },
        {
          "output_type": "stream",
          "name": "stdout",
          "text": [
            "--- Trial 34 ---\n"
          ]
        },
        {
          "output_type": "display_data",
          "data": {
            "text/plain": [
              "<IPython.core.display.HTML object>"
            ],
            "text/html": [
              "Changes to your `wandb` environment variables will be ignored because your `wandb` session has already started. For more information on how to modify your settings with `wandb.init()` arguments, please refer to <a href='https://wandb.me/wandb-init' target=\"_blank\">the W&B docs</a>."
            ]
          },
          "metadata": {}
        },
        {
          "output_type": "stream",
          "name": "stdout",
          "text": [
            "WandB run ID: gb82s9n3\n",
            "WandB run name: 2023-10-12 04:33:34\n",
            "Steps with max reward: 90000\n",
            "---\n",
            "Best model: ppo-pendulum_90000.zip\n",
            "Average episode length: 100.0\n",
            "Average episode reward: -195.27214695057378\n",
            "Average step time: 0.0005489308834075927\n"
          ]
        },
        {
          "output_type": "stream",
          "name": "stderr",
          "text": [
            "/usr/local/lib/python3.10/dist-packages/ax/modelbridge/transforms/winsorize.py:348: DeprecationWarning:\n",
            "\n",
            "the `interpolation=` argument to percentile was renamed to `method=`, which has additional options.\n",
            "Users of the modes 'nearest', 'lower', 'higher', or 'midpoint' are encouraged to review the method they used. (Deprecated NumPy 1.22)\n",
            "\n"
          ]
        },
        {
          "output_type": "stream",
          "name": "stdout",
          "text": [
            "--- Trial 35 ---\n"
          ]
        },
        {
          "output_type": "display_data",
          "data": {
            "text/plain": [
              "<IPython.core.display.HTML object>"
            ],
            "text/html": [
              "Changes to your `wandb` environment variables will be ignored because your `wandb` session has already started. For more information on how to modify your settings with `wandb.init()` arguments, please refer to <a href='https://wandb.me/wandb-init' target=\"_blank\">the W&B docs</a>."
            ]
          },
          "metadata": {}
        },
        {
          "output_type": "stream",
          "name": "stdout",
          "text": [
            "WandB run ID: ra2istv4\n",
            "WandB run name: 2023-10-12 04:35:31\n",
            "Steps with max reward: 60000\n",
            "---\n",
            "Best model: ppo-pendulum_60000.zip\n",
            "Average episode length: 100.0\n",
            "Average episode reward: -264.7689149010463\n",
            "Average step time: 0.0007185516357421874\n"
          ]
        },
        {
          "output_type": "stream",
          "name": "stderr",
          "text": [
            "/usr/local/lib/python3.10/dist-packages/ax/modelbridge/transforms/winsorize.py:348: DeprecationWarning:\n",
            "\n",
            "the `interpolation=` argument to percentile was renamed to `method=`, which has additional options.\n",
            "Users of the modes 'nearest', 'lower', 'higher', or 'midpoint' are encouraged to review the method they used. (Deprecated NumPy 1.22)\n",
            "\n"
          ]
        },
        {
          "output_type": "stream",
          "name": "stdout",
          "text": [
            "--- Trial 36 ---\n"
          ]
        },
        {
          "output_type": "display_data",
          "data": {
            "text/plain": [
              "<IPython.core.display.HTML object>"
            ],
            "text/html": [
              "Changes to your `wandb` environment variables will be ignored because your `wandb` session has already started. For more information on how to modify your settings with `wandb.init()` arguments, please refer to <a href='https://wandb.me/wandb-init' target=\"_blank\">the W&B docs</a>."
            ]
          },
          "metadata": {}
        },
        {
          "output_type": "stream",
          "name": "stdout",
          "text": [
            "WandB run ID: bvw5thh8\n",
            "WandB run name: 2023-10-12 04:37:30\n",
            "Steps with max reward: 90000\n",
            "---\n",
            "Best model: ppo-pendulum_90000.zip\n",
            "Average episode length: 100.0\n",
            "Average episode reward: -159.05776882637522\n",
            "Average step time: 0.0005649139881134034\n"
          ]
        },
        {
          "output_type": "stream",
          "name": "stderr",
          "text": [
            "/usr/local/lib/python3.10/dist-packages/ax/modelbridge/transforms/winsorize.py:348: DeprecationWarning:\n",
            "\n",
            "the `interpolation=` argument to percentile was renamed to `method=`, which has additional options.\n",
            "Users of the modes 'nearest', 'lower', 'higher', or 'midpoint' are encouraged to review the method they used. (Deprecated NumPy 1.22)\n",
            "\n"
          ]
        },
        {
          "output_type": "stream",
          "name": "stdout",
          "text": [
            "--- Trial 37 ---\n"
          ]
        },
        {
          "output_type": "display_data",
          "data": {
            "text/plain": [
              "<IPython.core.display.HTML object>"
            ],
            "text/html": [
              "Changes to your `wandb` environment variables will be ignored because your `wandb` session has already started. For more information on how to modify your settings with `wandb.init()` arguments, please refer to <a href='https://wandb.me/wandb-init' target=\"_blank\">the W&B docs</a>."
            ]
          },
          "metadata": {}
        },
        {
          "output_type": "stream",
          "name": "stdout",
          "text": [
            "WandB run ID: xottnh9m\n",
            "WandB run name: 2023-10-12 04:39:23\n",
            "Steps with max reward: 80000\n",
            "---\n",
            "Best model: ppo-pendulum_80000.zip\n",
            "Average episode length: 100.0\n",
            "Average episode reward: -166.6587768736262\n",
            "Average step time: 0.000553025484085083\n"
          ]
        },
        {
          "output_type": "stream",
          "name": "stderr",
          "text": [
            "/usr/local/lib/python3.10/dist-packages/ax/modelbridge/transforms/winsorize.py:348: DeprecationWarning:\n",
            "\n",
            "the `interpolation=` argument to percentile was renamed to `method=`, which has additional options.\n",
            "Users of the modes 'nearest', 'lower', 'higher', or 'midpoint' are encouraged to review the method they used. (Deprecated NumPy 1.22)\n",
            "\n"
          ]
        },
        {
          "output_type": "stream",
          "name": "stdout",
          "text": [
            "--- Trial 38 ---\n"
          ]
        },
        {
          "output_type": "display_data",
          "data": {
            "text/plain": [
              "<IPython.core.display.HTML object>"
            ],
            "text/html": [
              "Changes to your `wandb` environment variables will be ignored because your `wandb` session has already started. For more information on how to modify your settings with `wandb.init()` arguments, please refer to <a href='https://wandb.me/wandb-init' target=\"_blank\">the W&B docs</a>."
            ]
          },
          "metadata": {}
        },
        {
          "output_type": "stream",
          "name": "stdout",
          "text": [
            "WandB run ID: j5fudzl9\n",
            "WandB run name: 2023-10-12 04:41:19\n",
            "Steps with max reward: 70000\n",
            "---\n",
            "Best model: ppo-pendulum_70000.zip\n",
            "Average episode length: 100.0\n",
            "Average episode reward: -127.43442811088073\n",
            "Average step time: 0.0007308444976806641\n"
          ]
        },
        {
          "output_type": "stream",
          "name": "stderr",
          "text": [
            "/usr/local/lib/python3.10/dist-packages/ax/modelbridge/transforms/winsorize.py:348: DeprecationWarning:\n",
            "\n",
            "the `interpolation=` argument to percentile was renamed to `method=`, which has additional options.\n",
            "Users of the modes 'nearest', 'lower', 'higher', or 'midpoint' are encouraged to review the method they used. (Deprecated NumPy 1.22)\n",
            "\n"
          ]
        },
        {
          "output_type": "stream",
          "name": "stdout",
          "text": [
            "--- Trial 39 ---\n"
          ]
        },
        {
          "output_type": "display_data",
          "data": {
            "text/plain": [
              "<IPython.core.display.HTML object>"
            ],
            "text/html": [
              "Changes to your `wandb` environment variables will be ignored because your `wandb` session has already started. For more information on how to modify your settings with `wandb.init()` arguments, please refer to <a href='https://wandb.me/wandb-init' target=\"_blank\">the W&B docs</a>."
            ]
          },
          "metadata": {}
        },
        {
          "output_type": "stream",
          "name": "stdout",
          "text": [
            "WandB run ID: a63oss6h\n",
            "WandB run name: 2023-10-12 04:43:12\n",
            "Steps with max reward: 90000\n",
            "---\n",
            "Best model: ppo-pendulum_90000.zip\n",
            "Average episode length: 100.0\n",
            "Average episode reward: -165.8087658848445\n",
            "Average step time: 0.0005583646297454834\n"
          ]
        },
        {
          "output_type": "stream",
          "name": "stderr",
          "text": [
            "/usr/local/lib/python3.10/dist-packages/ax/modelbridge/transforms/winsorize.py:348: DeprecationWarning:\n",
            "\n",
            "the `interpolation=` argument to percentile was renamed to `method=`, which has additional options.\n",
            "Users of the modes 'nearest', 'lower', 'higher', or 'midpoint' are encouraged to review the method they used. (Deprecated NumPy 1.22)\n",
            "\n"
          ]
        },
        {
          "output_type": "stream",
          "name": "stdout",
          "text": [
            "--- Trial 40 ---\n"
          ]
        },
        {
          "output_type": "display_data",
          "data": {
            "text/plain": [
              "<IPython.core.display.HTML object>"
            ],
            "text/html": [
              "Changes to your `wandb` environment variables will be ignored because your `wandb` session has already started. For more information on how to modify your settings with `wandb.init()` arguments, please refer to <a href='https://wandb.me/wandb-init' target=\"_blank\">the W&B docs</a>."
            ]
          },
          "metadata": {}
        },
        {
          "output_type": "stream",
          "name": "stdout",
          "text": [
            "WandB run ID: up2x5n79\n",
            "WandB run name: 2023-10-12 04:45:10\n",
            "Steps with max reward: 70000\n",
            "---\n",
            "Best model: ppo-pendulum_70000.zip\n",
            "Average episode length: 100.0\n",
            "Average episode reward: -191.2245009281018\n",
            "Average step time: 0.0008799781799316406\n"
          ]
        },
        {
          "output_type": "stream",
          "name": "stderr",
          "text": [
            "/usr/local/lib/python3.10/dist-packages/ax/modelbridge/transforms/winsorize.py:348: DeprecationWarning:\n",
            "\n",
            "the `interpolation=` argument to percentile was renamed to `method=`, which has additional options.\n",
            "Users of the modes 'nearest', 'lower', 'higher', or 'midpoint' are encouraged to review the method they used. (Deprecated NumPy 1.22)\n",
            "\n"
          ]
        },
        {
          "output_type": "stream",
          "name": "stdout",
          "text": [
            "--- Trial 41 ---\n"
          ]
        },
        {
          "output_type": "display_data",
          "data": {
            "text/plain": [
              "<IPython.core.display.HTML object>"
            ],
            "text/html": [
              "Changes to your `wandb` environment variables will be ignored because your `wandb` session has already started. For more information on how to modify your settings with `wandb.init()` arguments, please refer to <a href='https://wandb.me/wandb-init' target=\"_blank\">the W&B docs</a>."
            ]
          },
          "metadata": {}
        },
        {
          "output_type": "stream",
          "name": "stdout",
          "text": [
            "WandB run ID: sjjw83n6\n",
            "WandB run name: 2023-10-12 04:47:03\n",
            "Steps with max reward: 40000\n",
            "---\n",
            "Best model: ppo-pendulum_40000.zip\n",
            "Average episode length: 100.0\n",
            "Average episode reward: -229.87518150342174\n",
            "Average step time: 0.000548222541809082\n"
          ]
        },
        {
          "output_type": "stream",
          "name": "stderr",
          "text": [
            "/usr/local/lib/python3.10/dist-packages/ax/modelbridge/transforms/winsorize.py:348: DeprecationWarning:\n",
            "\n",
            "the `interpolation=` argument to percentile was renamed to `method=`, which has additional options.\n",
            "Users of the modes 'nearest', 'lower', 'higher', or 'midpoint' are encouraged to review the method they used. (Deprecated NumPy 1.22)\n",
            "\n"
          ]
        },
        {
          "output_type": "stream",
          "name": "stdout",
          "text": [
            "--- Trial 42 ---\n"
          ]
        },
        {
          "output_type": "display_data",
          "data": {
            "text/plain": [
              "<IPython.core.display.HTML object>"
            ],
            "text/html": [
              "Changes to your `wandb` environment variables will be ignored because your `wandb` session has already started. For more information on how to modify your settings with `wandb.init()` arguments, please refer to <a href='https://wandb.me/wandb-init' target=\"_blank\">the W&B docs</a>."
            ]
          },
          "metadata": {}
        },
        {
          "output_type": "stream",
          "name": "stdout",
          "text": [
            "WandB run ID: 7pkyng2j\n",
            "WandB run name: 2023-10-12 04:48:59\n",
            "Steps with max reward: 90000\n",
            "---\n",
            "Best model: ppo-pendulum_90000.zip\n",
            "Average episode length: 100.0\n",
            "Average episode reward: -152.5429615939733\n",
            "Average step time: 0.0005572702884674072\n"
          ]
        },
        {
          "output_type": "stream",
          "name": "stderr",
          "text": [
            "/usr/local/lib/python3.10/dist-packages/ax/modelbridge/transforms/winsorize.py:348: DeprecationWarning:\n",
            "\n",
            "the `interpolation=` argument to percentile was renamed to `method=`, which has additional options.\n",
            "Users of the modes 'nearest', 'lower', 'higher', or 'midpoint' are encouraged to review the method they used. (Deprecated NumPy 1.22)\n",
            "\n"
          ]
        },
        {
          "output_type": "stream",
          "name": "stdout",
          "text": [
            "--- Trial 43 ---\n"
          ]
        },
        {
          "output_type": "display_data",
          "data": {
            "text/plain": [
              "<IPython.core.display.HTML object>"
            ],
            "text/html": [
              "Changes to your `wandb` environment variables will be ignored because your `wandb` session has already started. For more information on how to modify your settings with `wandb.init()` arguments, please refer to <a href='https://wandb.me/wandb-init' target=\"_blank\">the W&B docs</a>."
            ]
          },
          "metadata": {}
        },
        {
          "output_type": "stream",
          "name": "stdout",
          "text": [
            "WandB run ID: 1tqfavls\n",
            "WandB run name: 2023-10-12 04:51:01\n",
            "Steps with max reward: 80000\n",
            "---\n",
            "Best model: ppo-pendulum_80000.zip\n",
            "Average episode length: 100.0\n",
            "Average episode reward: -310.28348874786275\n",
            "Average step time: 0.0005423662662506103\n"
          ]
        },
        {
          "output_type": "stream",
          "name": "stderr",
          "text": [
            "/usr/local/lib/python3.10/dist-packages/ax/modelbridge/transforms/winsorize.py:348: DeprecationWarning:\n",
            "\n",
            "the `interpolation=` argument to percentile was renamed to `method=`, which has additional options.\n",
            "Users of the modes 'nearest', 'lower', 'higher', or 'midpoint' are encouraged to review the method they used. (Deprecated NumPy 1.22)\n",
            "\n"
          ]
        },
        {
          "output_type": "stream",
          "name": "stdout",
          "text": [
            "--- Trial 44 ---\n"
          ]
        },
        {
          "output_type": "display_data",
          "data": {
            "text/plain": [
              "<IPython.core.display.HTML object>"
            ],
            "text/html": [
              "Changes to your `wandb` environment variables will be ignored because your `wandb` session has already started. For more information on how to modify your settings with `wandb.init()` arguments, please refer to <a href='https://wandb.me/wandb-init' target=\"_blank\">the W&B docs</a>."
            ]
          },
          "metadata": {}
        },
        {
          "output_type": "stream",
          "name": "stdout",
          "text": [
            "WandB run ID: 37tif9h4\n",
            "WandB run name: 2023-10-12 04:53:05\n",
            "Steps with max reward: 40000\n",
            "---\n",
            "Best model: ppo-pendulum_40000.zip\n",
            "Average episode length: 100.0\n",
            "Average episode reward: -228.14908205301532\n",
            "Average step time: 0.0005645742416381836\n"
          ]
        },
        {
          "output_type": "stream",
          "name": "stderr",
          "text": [
            "/usr/local/lib/python3.10/dist-packages/ax/modelbridge/transforms/winsorize.py:348: DeprecationWarning:\n",
            "\n",
            "the `interpolation=` argument to percentile was renamed to `method=`, which has additional options.\n",
            "Users of the modes 'nearest', 'lower', 'higher', or 'midpoint' are encouraged to review the method they used. (Deprecated NumPy 1.22)\n",
            "\n"
          ]
        },
        {
          "output_type": "stream",
          "name": "stdout",
          "text": [
            "--- Trial 45 ---\n"
          ]
        },
        {
          "output_type": "display_data",
          "data": {
            "text/plain": [
              "<IPython.core.display.HTML object>"
            ],
            "text/html": [
              "Changes to your `wandb` environment variables will be ignored because your `wandb` session has already started. For more information on how to modify your settings with `wandb.init()` arguments, please refer to <a href='https://wandb.me/wandb-init' target=\"_blank\">the W&B docs</a>."
            ]
          },
          "metadata": {}
        },
        {
          "output_type": "stream",
          "name": "stdout",
          "text": [
            "WandB run ID: i1ch30od\n",
            "WandB run name: 2023-10-12 04:54:59\n",
            "Steps with max reward: 60000\n",
            "---\n",
            "Best model: ppo-pendulum_60000.zip\n",
            "Average episode length: 100.0\n",
            "Average episode reward: -235.49446458756256\n",
            "Average step time: 0.0006888923645019532\n"
          ]
        },
        {
          "output_type": "stream",
          "name": "stderr",
          "text": [
            "/usr/local/lib/python3.10/dist-packages/ax/modelbridge/transforms/winsorize.py:348: DeprecationWarning:\n",
            "\n",
            "the `interpolation=` argument to percentile was renamed to `method=`, which has additional options.\n",
            "Users of the modes 'nearest', 'lower', 'higher', or 'midpoint' are encouraged to review the method they used. (Deprecated NumPy 1.22)\n",
            "\n"
          ]
        },
        {
          "output_type": "stream",
          "name": "stdout",
          "text": [
            "--- Trial 46 ---\n"
          ]
        },
        {
          "output_type": "display_data",
          "data": {
            "text/plain": [
              "<IPython.core.display.HTML object>"
            ],
            "text/html": [
              "Changes to your `wandb` environment variables will be ignored because your `wandb` session has already started. For more information on how to modify your settings with `wandb.init()` arguments, please refer to <a href='https://wandb.me/wandb-init' target=\"_blank\">the W&B docs</a>."
            ]
          },
          "metadata": {}
        },
        {
          "output_type": "stream",
          "name": "stdout",
          "text": [
            "WandB run ID: nv6w2sgf\n",
            "WandB run name: 2023-10-12 04:57:03\n",
            "Steps with max reward: 50000\n",
            "---\n",
            "Best model: ppo-pendulum_50000.zip\n",
            "Average episode length: 100.0\n",
            "Average episode reward: -185.9634651584709\n",
            "Average step time: 0.0005688469409942627\n"
          ]
        },
        {
          "output_type": "stream",
          "name": "stderr",
          "text": [
            "/usr/local/lib/python3.10/dist-packages/ax/modelbridge/transforms/winsorize.py:348: DeprecationWarning:\n",
            "\n",
            "the `interpolation=` argument to percentile was renamed to `method=`, which has additional options.\n",
            "Users of the modes 'nearest', 'lower', 'higher', or 'midpoint' are encouraged to review the method they used. (Deprecated NumPy 1.22)\n",
            "\n"
          ]
        },
        {
          "output_type": "stream",
          "name": "stdout",
          "text": [
            "--- Trial 47 ---\n"
          ]
        },
        {
          "output_type": "display_data",
          "data": {
            "text/plain": [
              "<IPython.core.display.HTML object>"
            ],
            "text/html": [
              "Changes to your `wandb` environment variables will be ignored because your `wandb` session has already started. For more information on how to modify your settings with `wandb.init()` arguments, please refer to <a href='https://wandb.me/wandb-init' target=\"_blank\">the W&B docs</a>."
            ]
          },
          "metadata": {}
        },
        {
          "output_type": "stream",
          "name": "stdout",
          "text": [
            "WandB run ID: r0qkqlzf\n",
            "WandB run name: 2023-10-12 04:58:58\n",
            "Steps with max reward: 50000\n",
            "---\n",
            "Best model: ppo-pendulum_50000.zip\n",
            "Average episode length: 100.0\n",
            "Average episode reward: -204.72612916522206\n",
            "Average step time: 0.0005617232322692871\n"
          ]
        },
        {
          "output_type": "stream",
          "name": "stderr",
          "text": [
            "/usr/local/lib/python3.10/dist-packages/ax/modelbridge/transforms/winsorize.py:348: DeprecationWarning:\n",
            "\n",
            "the `interpolation=` argument to percentile was renamed to `method=`, which has additional options.\n",
            "Users of the modes 'nearest', 'lower', 'higher', or 'midpoint' are encouraged to review the method they used. (Deprecated NumPy 1.22)\n",
            "\n"
          ]
        },
        {
          "output_type": "stream",
          "name": "stdout",
          "text": [
            "--- Trial 48 ---\n"
          ]
        },
        {
          "output_type": "display_data",
          "data": {
            "text/plain": [
              "<IPython.core.display.HTML object>"
            ],
            "text/html": [
              "Changes to your `wandb` environment variables will be ignored because your `wandb` session has already started. For more information on how to modify your settings with `wandb.init()` arguments, please refer to <a href='https://wandb.me/wandb-init' target=\"_blank\">the W&B docs</a>."
            ]
          },
          "metadata": {}
        },
        {
          "output_type": "stream",
          "name": "stdout",
          "text": [
            "WandB run ID: hxhj9832\n",
            "WandB run name: 2023-10-12 05:00:53\n",
            "Steps with max reward: 90000\n",
            "---\n",
            "Best model: ppo-pendulum_90000.zip\n",
            "Average episode length: 100.0\n",
            "Average episode reward: -199.2114442197589\n",
            "Average step time: 0.0007584159374237062\n"
          ]
        },
        {
          "output_type": "stream",
          "name": "stderr",
          "text": [
            "/usr/local/lib/python3.10/dist-packages/ax/modelbridge/transforms/winsorize.py:348: DeprecationWarning:\n",
            "\n",
            "the `interpolation=` argument to percentile was renamed to `method=`, which has additional options.\n",
            "Users of the modes 'nearest', 'lower', 'higher', or 'midpoint' are encouraged to review the method they used. (Deprecated NumPy 1.22)\n",
            "\n"
          ]
        },
        {
          "output_type": "stream",
          "name": "stdout",
          "text": [
            "--- Trial 49 ---\n"
          ]
        },
        {
          "output_type": "display_data",
          "data": {
            "text/plain": [
              "<IPython.core.display.HTML object>"
            ],
            "text/html": [
              "Changes to your `wandb` environment variables will be ignored because your `wandb` session has already started. For more information on how to modify your settings with `wandb.init()` arguments, please refer to <a href='https://wandb.me/wandb-init' target=\"_blank\">the W&B docs</a>."
            ]
          },
          "metadata": {}
        },
        {
          "output_type": "stream",
          "name": "stdout",
          "text": [
            "WandB run ID: 3tgno775\n",
            "WandB run name: 2023-10-12 05:02:47\n",
            "Steps with max reward: 80000\n",
            "---\n",
            "Best model: ppo-pendulum_80000.zip\n",
            "Average episode length: 100.0\n",
            "Average episode reward: -104.02972215405217\n",
            "Average step time: 0.0005573461055755615\n"
          ]
        },
        {
          "output_type": "stream",
          "name": "stderr",
          "text": [
            "/usr/local/lib/python3.10/dist-packages/ax/modelbridge/transforms/winsorize.py:348: DeprecationWarning:\n",
            "\n",
            "the `interpolation=` argument to percentile was renamed to `method=`, which has additional options.\n",
            "Users of the modes 'nearest', 'lower', 'higher', or 'midpoint' are encouraged to review the method they used. (Deprecated NumPy 1.22)\n",
            "\n"
          ]
        }
      ]
    },
    {
      "cell_type": "markdown",
      "source": [
        "## Train agent with best hyperparameters"
      ],
      "metadata": {
        "id": "QnJxttssDZef"
      }
    },
    {
      "cell_type": "code",
      "source": [
        "# Get from W&B dashboard\n",
        "hparams = {\n",
        "    'n_envs': 1,\n",
        "    'learning_rate': 0.008588262476609402,\n",
        "    'steps_per_update_pow2': 11,\n",
        "    'batch_size_div_pow2': 2,\n",
        "    'gamma': 0.925367066383774,\n",
        "    'entropy_coef': 0.05427299351015017,\n",
        "    'use_sde': False,\n",
        "    'sde_freq': 6,\n",
        "    'layer_1_pow2': 6,\n",
        "    'layer_2_pow2': 6,\n",
        "}"
      ],
      "metadata": {
        "id": "bMjRPWtlLI_M"
      },
      "execution_count": 67,
      "outputs": []
    },
    {
      "cell_type": "code",
      "source": [
        "# Create our environment\n",
        "try:\n",
        "  env.close()\n",
        "except NameError:\n",
        "  env = gym.make('Pendulum-v1', render_mode='rgb_array')"
      ],
      "metadata": {
        "id": "eaJGu31nD-zU"
      },
      "execution_count": 68,
      "outputs": []
    },
    {
      "cell_type": "code",
      "source": [
        "# Train model\n",
        "_ = do_trial(settings, hparams)"
      ],
      "metadata": {
        "colab": {
          "base_uri": "https://localhost:8080/",
          "height": 208
        },
        "id": "swvjwkrDEG15",
        "outputId": "b81ac0d6-744f-4332-f822-864f080f0598"
      },
      "execution_count": 69,
      "outputs": [
        {
          "output_type": "display_data",
          "data": {
            "text/plain": [
              "<IPython.core.display.HTML object>"
            ],
            "text/html": [
              "Changes to your `wandb` environment variables will be ignored because your `wandb` session has already started. For more information on how to modify your settings with `wandb.init()` arguments, please refer to <a href='https://wandb.me/wandb-init' target=\"_blank\">the W&B docs</a>."
            ]
          },
          "metadata": {}
        },
        {
          "output_type": "stream",
          "name": "stdout",
          "text": [
            "WandB run ID: 2qei77jy\n",
            "WandB run name: 2023-10-12 05:29:26\n",
            "Steps with max reward: 70000\n",
            "---\n",
            "Best model: ppo-pendulum_70000.zip\n",
            "Average episode length: 100.0\n",
            "Average episode reward: -179.16185589598058\n",
            "Average step time: 0.0006293234825134278\n"
          ]
        }
      ]
    },
    {
      "cell_type": "markdown",
      "source": [
        "## Test trained agent"
      ],
      "metadata": {
        "id": "G7nRS2FkFSyu"
      }
    },
    {
      "cell_type": "code",
      "source": [
        "# Model and video settings\n",
        "MODEL_FILENAME = \"checkpoints/ppo-pendulum_70000.zip\"\n",
        "VIDEO_FILENAME = \"2-testing.mp4\"\n",
        "\n",
        "# Create our environment\n",
        "try:\n",
        "  env.close()\n",
        "except NameError:\n",
        "  pass\n",
        "env = gym.make('Pendulum-v1', render_mode='rgb_array')\n",
        "\n",
        "# Load the model\n",
        "model = sb3.PPO.load(MODEL_FILENAME)\n",
        "\n",
        "# Create recorder\n",
        "video = cv2.VideoWriter(VIDEO_FILENAME, FOURCC, FPS, (width, height))\n",
        "\n",
        "# Test the model\n",
        "ep_len, ep_rew, avg_step_time = test_agent(\n",
        "    env,\n",
        "    model,\n",
        "    max_steps=200,\n",
        "    video=video,\n",
        "    msg=f\"{MODEL_FILENAME}\"\n",
        ")\n",
        "print(f\"Episode length: {ep_len}, reward: {ep_rew}, avg step time: {avg_step_time}\")\n",
        "\n",
        "# Close the video writer\n",
        "video.release()"
      ],
      "metadata": {
        "colab": {
          "base_uri": "https://localhost:8080/"
        },
        "id": "8xt_I9ltEK3l",
        "outputId": "6c44c534-99ff-4ec7-9f4f-652054b1db49"
      },
      "execution_count": 70,
      "outputs": [
        {
          "output_type": "stream",
          "name": "stdout",
          "text": [
            "Episode length: 200, reward: -127.95295503925935, avg step time: 0.0010370385646820068\n"
          ]
        }
      ]
    },
    {
      "cell_type": "code",
      "source": [],
      "metadata": {
        "id": "SbKId8WYGLUy"
      },
      "execution_count": null,
      "outputs": []
    }
  ]
}